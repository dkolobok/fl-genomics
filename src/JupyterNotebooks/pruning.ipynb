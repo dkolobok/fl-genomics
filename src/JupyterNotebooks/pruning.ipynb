{
 "cells": [
  {
   "cell_type": "markdown",
   "source": [
    "# Imports"
   ],
   "metadata": {
    "collapsed": false,
    "pycharm": {
     "name": "#%% md\n"
    }
   }
  },
  {
   "cell_type": "code",
   "execution_count": 44,
   "outputs": [],
   "source": [
    "import pandas as pd\n",
    "import seaborn as sns\n",
    "from matplotlib import pyplot\n",
    "import numpy\n",
    "from sklearn.ensemble import RandomForestClassifier\n",
    "from sklearn.metrics import accuracy_score\n",
    "from sklearn.model_selection import cross_validate"
   ],
   "metadata": {
    "collapsed": false,
    "pycharm": {
     "name": "#%%\n"
    }
   }
  },
  {
   "cell_type": "markdown",
   "source": [
    "# Load data"
   ],
   "metadata": {
    "collapsed": false,
    "pycharm": {
     "name": "#%% md\n"
    }
   }
  },
  {
   "cell_type": "code",
   "execution_count": 54,
   "outputs": [],
   "source": [
    "x_dict = {}\n",
    "values = ['0.01','0.02', '0.03', '0.04', '0.05', '0.06', '0.07', '0.08', '0.09', '0.1', '0.11', '0.12', '0.13',\n",
    "          '0.14', '0.16', '0.18', '0.2', '0.22', '0.24', '0.26', '0.28']\n",
    "\n",
    "for value in values:\n",
    "    split_x = {}\n",
    "    split_x['test'] = pd.read_table(f'/media/storage/TG/data/chip/superpop_split/pca_pruning2/pca_pruning{value}/ALL/fold_0_test_projections.csv.eigenvec.sscore')\n",
    "    split_x['train'] = pd.read_table(f'/media/storage/TG/data/chip/superpop_split/pca_pruning2/pca_pruning{value}/ALL/fold_0_train_projections.csv.eigenvec.sscore')\n",
    "    split_x['val'] = pd.read_table(f'/media/storage/TG/data/chip/superpop_split/pca_pruning2/pca_pruning{value}/ALL/fold_0_val_projections.csv.eigenvec.sscore')\n",
    "\n",
    "    split_x['test.fake'] = pd.read_table(f'/media/storage/TG/data/chip/superpop_split/pca_pruning2/pca_pruning{value}/ALL.fake/fold_0_test_projections.csv.eigenvec.sscore')\n",
    "    split_x['train.fake'] = pd.read_table(f'/media/storage/TG/data/chip/superpop_split/pca_pruning2/pca_pruning{value}/ALL.fake/fold_0_train_projections.csv.eigenvec.sscore')\n",
    "    split_x['val.fake'] = pd.read_table(f'/media/storage/TG/data/chip/superpop_split/pca_pruning2/pca_pruning{value}/ALL.fake/fold_0_val_projections.csv.eigenvec.sscore')\n",
    "\n",
    "    x_dict[value] = split_x\n",
    "\n",
    "\n",
    "test_y = pd.read_table('/media/storage/TG/data_compare/new_data/y/fold_0_test.tsv')\n",
    "train_y = pd.read_table('/media/storage/TG/data_compare/new_data/y/fold_0_train.tsv')\n",
    "val_y = pd.read_table('/media/storage/TG/data_compare/new_data/y/fold_0_val.tsv')\n"
   ],
   "metadata": {
    "collapsed": false,
    "pycharm": {
     "name": "#%%\n"
    }
   }
  },
  {
   "cell_type": "markdown",
   "source": [
    "# Process data"
   ],
   "metadata": {
    "collapsed": false,
    "pycharm": {
     "name": "#%% md\n"
    }
   }
  },
  {
   "cell_type": "code",
   "execution_count": 55,
   "outputs": [],
   "source": [
    "# Loading into pandas\n",
    "y = pd.concat([val_y, test_y, train_y]).rename_axis('index').reset_index()\n",
    "for value in values:\n",
    "    x_dict[value+'prune'] = pd.concat([x_dict[value]['val'], x_dict[value]['test'], x_dict[value]['train']]).rename(columns={'#IID': 'IID'}).set_index('IID').filter(regex='^PC*').reindex(y.set_index('IID').index)\n",
    "    x_dict[value+'.fake'] = pd.concat([x_dict[value]['val.fake'], x_dict[value]['test.fake'], x_dict[value]['train.fake']]).rename(columns={'#IID': 'IID'}).set_index('IID').filter(regex='^PC*').reindex(y.set_index('IID').index)\n",
    "    x_dict[value+'_np'] = x_dict[value + 'prune'].values\n",
    "    x_dict[value+'.fake'+'_np'] = x_dict[value+'.fake'].values\n",
    "\n",
    "# Converting into numpy\n",
    "_, y_np = numpy.unique(y.iloc[:, -1].values.astype(numpy.ndarray), return_inverse=True)"
   ],
   "metadata": {
    "collapsed": false,
    "pycharm": {
     "name": "#%%\n"
    }
   }
  },
  {
   "cell_type": "markdown",
   "source": [
    "# Model and training"
   ],
   "metadata": {
    "collapsed": false,
    "pycharm": {
     "name": "#%% md\n"
    }
   }
  },
  {
   "cell_type": "code",
   "execution_count": 56,
   "outputs": [],
   "source": [
    "model = RandomForestClassifier(min_samples_leaf=1,\n",
    "                               n_estimators=100)"
   ],
   "metadata": {
    "collapsed": false,
    "pycharm": {
     "name": "#%%\n"
    }
   }
  },
  {
   "cell_type": "code",
   "execution_count": 57,
   "outputs": [
    {
     "name": "stdout",
     "output_type": "stream",
     "text": [
      "Pruning\n",
      "VALUE: 0.01\n",
      "Train accuracies: 1.0\n",
      "Test accuracies: 0.7656277717193748\n",
      "FAKE\n",
      "VALUE: 0.01\n",
      "Train accuracies: 1.0\n",
      "Test accuracies: 0.7233260632497275\n",
      "Pruning\n",
      "VALUE: 0.02\n",
      "Train accuracies: 1.0\n",
      "Test accuracies: 0.831173391494002\n",
      "FAKE\n",
      "VALUE: 0.02\n",
      "Train accuracies: 1.0\n",
      "Test accuracies: 0.7900225372591784\n",
      "Pruning\n",
      "VALUE: 0.03\n",
      "Train accuracies: 1.0\n",
      "Test accuracies: 0.8616619411123227\n",
      "FAKE\n",
      "VALUE: 0.03\n",
      "Train accuracies: 1.0\n",
      "Test accuracies: 0.8174569247546348\n",
      "Pruning\n",
      "VALUE: 0.04\n",
      "Train accuracies: 1.0\n",
      "Test accuracies: 0.8711901126862959\n",
      "FAKE\n",
      "VALUE: 0.04\n",
      "Train accuracies: 1.0\n",
      "Test accuracies: 0.842990185387132\n",
      "Pruning\n",
      "VALUE: 0.05\n",
      "Train accuracies: 1.0\n",
      "Test accuracies: 0.8875826972010177\n",
      "FAKE\n",
      "VALUE: 0.05\n",
      "Train accuracies: 1.0\n",
      "Test accuracies: 0.8574714649218466\n",
      "Pruning\n",
      "VALUE: 0.06\n",
      "Train accuracies: 1.0\n",
      "Test accuracies: 0.8929160305343512\n",
      "FAKE\n",
      "VALUE: 0.06\n",
      "Train accuracies: 1.0\n",
      "Test accuracies: 0.8696670301708469\n",
      "Pruning\n",
      "VALUE: 0.07\n",
      "Train accuracies: 1.0\n",
      "Test accuracies: 0.9001541257724464\n",
      "FAKE\n",
      "VALUE: 0.07\n",
      "Train accuracies: 1.0\n",
      "Test accuracies: 0.8750090876045075\n",
      "Pruning\n",
      "VALUE: 0.08\n",
      "Train accuracies: 1.0\n",
      "Test accuracies: 0.895202471828426\n",
      "FAKE\n",
      "VALUE: 0.08\n",
      "Train accuracies: 1.0\n",
      "Test accuracies: 0.8772918938567793\n",
      "Pruning\n",
      "VALUE: 0.09\n",
      "Train accuracies: 1.0\n",
      "Test accuracies: 0.9001541257724464\n",
      "FAKE\n",
      "VALUE: 0.09\n",
      "Train accuracies: 1.0\n",
      "Test accuracies: 0.8788186114140313\n",
      "Pruning\n",
      "VALUE: 0.1\n",
      "Train accuracies: 1.0\n",
      "Test accuracies: 0.897866957470011\n",
      "FAKE\n",
      "VALUE: 0.1\n",
      "Train accuracies: 1.0\n",
      "Test accuracies: 0.8872017448200655\n",
      "Pruning\n",
      "VALUE: 0.11\n",
      "Train accuracies: 1.0\n",
      "Test accuracies: 0.8955834242093783\n",
      "FAKE\n",
      "VALUE: 0.11\n",
      "Train accuracies: 1.0\n",
      "Test accuracies: 0.8818655034532897\n",
      "Pruning\n",
      "VALUE: 0.12\n",
      "Train accuracies: 1.0\n",
      "Test accuracies: 0.8936779352962558\n",
      "FAKE\n",
      "VALUE: 0.12\n",
      "Train accuracies: 1.0\n",
      "Test accuracies: 0.8822479098509634\n",
      "Pruning\n",
      "VALUE: 0.13\n",
      "Train accuracies: 1.0\n",
      "Test accuracies: 0.8944398400581607\n",
      "FAKE\n",
      "VALUE: 0.13\n",
      "Train accuracies: 1.0\n",
      "Test accuracies: 0.8860581606688477\n",
      "Pruning\n",
      "VALUE: 0.14\n",
      "Train accuracies: 1.0\n",
      "Test accuracies: 0.8963482370047255\n",
      "FAKE\n",
      "VALUE: 0.14\n",
      "Train accuracies: 1.0\n",
      "Test accuracies: 0.883398764085787\n",
      "Pruning\n",
      "VALUE: 0.16\n",
      "Train accuracies: 1.0\n",
      "Test accuracies: 0.897868411486732\n",
      "FAKE\n",
      "VALUE: 0.16\n",
      "Train accuracies: 1.0\n",
      "Test accuracies: 0.8913944020356235\n",
      "Pruning\n",
      "VALUE: 0.18\n",
      "Train accuracies: 1.0\n",
      "Test accuracies: 0.892916030534351\n",
      "FAKE\n",
      "VALUE: 0.18\n",
      "Train accuracies: 1.0\n",
      "Test accuracies: 0.8990178117048344\n",
      "Pruning\n",
      "VALUE: 0.2\n",
      "Train accuracies: 1.0\n",
      "Test accuracies: 0.8894874591057796\n",
      "FAKE\n",
      "VALUE: 0.2\n",
      "Train accuracies: 1.0\n",
      "Test accuracies: 0.8963489640130862\n",
      "Pruning\n",
      "VALUE: 0.22\n",
      "Train accuracies: 1.0\n",
      "Test accuracies: 0.8940552526354052\n",
      "FAKE\n",
      "VALUE: 0.22\n",
      "Train accuracies: 1.0\n",
      "Test accuracies: 0.893303525990549\n",
      "Pruning\n",
      "VALUE: 0.24\n",
      "Train accuracies: 1.0\n",
      "Test accuracies: 0.8864412940748819\n",
      "FAKE\n",
      "VALUE: 0.24\n",
      "Train accuracies: 1.0\n",
      "Test accuracies: 0.8986368593238823\n",
      "Pruning\n",
      "VALUE: 0.26\n",
      "Train accuracies: 1.0\n",
      "Test accuracies: 0.8936786623046163\n",
      "FAKE\n",
      "VALUE: 0.26\n",
      "Train accuracies: 1.0\n",
      "Test accuracies: 0.8971123227917122\n",
      "Pruning\n",
      "VALUE: 0.28\n",
      "Train accuracies: 1.0\n",
      "Test accuracies: 0.8959687386404942\n",
      "FAKE\n",
      "VALUE: 0.28\n",
      "Train accuracies: 1.0\n",
      "Test accuracies: 0.8974940021810252\n"
     ]
    }
   ],
   "source": [
    "scores_total = {}\n",
    "for value in values:\n",
    "    value_score = {}\n",
    "    scores = cross_validate(model, x_dict[value + '_np'], y_np, cv=5, return_train_score=True)\n",
    "    value_score['train'] = sum(scores[\"train_score\"]) / len(scores[\"train_score\"])\n",
    "    value_score['test'] = sum(scores[\"test_score\"]) / len(scores[\"test_score\"])\n",
    "    print(f\"Pruning\\n\"\n",
    "          f\"VALUE: {value}\\n\"\n",
    "          f\"Train accuracies: {value_score['train']}\\n\"\n",
    "      f\"Test accuracies: {value_score['test']}\")\n",
    "\n",
    "    scores = cross_validate(model, x_dict[value +'.fake'+ '_np'], y_np, cv=5, return_train_score=True)\n",
    "    value_score['train.fake'] = sum(scores[\"train_score\"]) / len(scores[\"train_score\"])\n",
    "    value_score['test.fake'] = sum(scores[\"test_score\"]) / len(scores[\"test_score\"])\n",
    "    scores_total[value] = value_score\n",
    "    print(f\"FAKE\\n\"\n",
    "          f\"VALUE: {value}\\n\"\n",
    "          f\"Train accuracies: {value_score['train.fake']}\\n\"\n",
    "      f\"Test accuracies: {value_score['test.fake']}\")"
   ],
   "metadata": {
    "collapsed": false,
    "pycharm": {
     "name": "#%%\n"
    }
   }
  },
  {
   "cell_type": "markdown",
   "source": [
    "# Results"
   ],
   "metadata": {
    "collapsed": false,
    "pycharm": {
     "name": "#%% md\n"
    }
   }
  },
  {
   "cell_type": "code",
   "execution_count": 58,
   "outputs": [
    {
     "data": {
      "text/plain": "[Text(0.5, 0, 'pruning threshold'), Text(0, 0.5, 'RF accuracy')]"
     },
     "execution_count": 58,
     "metadata": {},
     "output_type": "execute_result"
    },
    {
     "data": {
      "text/plain": "<Figure size 842.4x595.44 with 1 Axes>",
      "image/png": "[encoded data removed]"
     },
     "metadata": {
      "needs_background": "light"
     },
     "output_type": "display_data"
    }
   ],
   "source": [
    "keys = values\n",
    "baseline = [0.91178]*len(keys)\n",
    "a4_dims = (11.7, 8.27)\n",
    "fig, ax = pyplot.subplots(figsize=a4_dims)\n",
    "vals_true = [scores_total[k]['test'] for k in keys]\n",
    "vals_fake = [scores_total[k]['test.fake'] for k in keys]\n",
    "plot = sns.lineplot(x=keys, y=vals_true, label=\"pruned\", ax=ax)\n",
    "plot = sns.lineplot(x=keys, y=vals_fake, label=\"fake\", ax=ax)\n",
    "plot = sns.lineplot(x=keys, y=baseline, label=\"normal RF perfomance\", ax=ax)\n",
    "plot.set(xlabel='pruning threshold', ylabel='RF accuracy')\n"
   ],
   "metadata": {
    "collapsed": false,
    "pycharm": {
     "name": "#%%\n"
    }
   }
  }
 ],
 "metadata": {
  "kernelspec": {
   "display_name": "Python 3",
   "language": "python",
   "name": "python3"
  },
  "language_info": {
   "codemirror_mode": {
    "name": "ipython",
    "version": 2
   },
   "file_extension": ".py",
   "mimetype": "text/x-python",
   "name": "python",
   "nbconvert_exporter": "python",
   "pygments_lexer": "ipython2",
   "version": "2.7.6"
  }
 },
 "nbformat": 4,
 "nbformat_minor": 0
}