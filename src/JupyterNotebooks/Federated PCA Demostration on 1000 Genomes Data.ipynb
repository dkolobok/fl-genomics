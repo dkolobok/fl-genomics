{
 "cells": [
  {
   "cell_type": "markdown",
   "metadata": {},
   "source": [
    "# Federated PCA Demonstartion on 1000 Genomes Data"
   ]
  },
  {
   "cell_type": "code",
   "execution_count": 6,
   "metadata": {},
   "outputs": [
    {
     "name": "stdout",
     "output_type": "stream",
     "text": [
      "The autoreload extension is already loaded. To reload it, use:\n",
      "  %reload_ext autoreload\n"
     ]
    }
   ],
   "source": [
    "%load_ext autoreload\n",
    "%autoreload 2"
   ]
  },
  {
   "cell_type": "code",
   "execution_count": 7,
   "metadata": {},
   "outputs": [],
   "source": [
    "\n",
    "import sys\n",
    "sys.path.insert(1, '/home/genxadmin/uk-biobank/src/preprocess/fpca')\n",
    "\n",
    "import subprocess\n",
    "import federated_pca\n",
    "\n",
    "import pandas as pd\n",
    "import matplotlib.pyplot as plt"
   ]
  },
  {
   "cell_type": "markdown",
   "metadata": {},
   "source": [
    "### [ 0 ] Create Data Folders"
   ]
  },
  {
   "cell_type": "code",
   "execution_count": 8,
   "metadata": {},
   "outputs": [
    {
     "name": "stdout",
     "output_type": "stream",
     "text": [
      "['AFR', 'SAS', 'EUR', 'AMR', 'EAS']\n"
     ]
    }
   ],
   "source": [
    "federated_pca.init()\n",
    "\n",
    "# List of clients nodes\n",
    "print(federated_pca.NODES)"
   ]
  },
  {
   "cell_type": "markdown",
   "metadata": {},
   "source": [
    "### [ 1 ] Variants Pruning (Simulation)"
   ]
  },
  {
   "cell_type": "code",
   "execution_count": null,
   "metadata": {},
   "outputs": [],
   "source": [
    "federated_pca.prune(portion=0.001)"
   ]
  },
  {
   "cell_type": "code",
   "execution_count": 9,
   "metadata": {},
   "outputs": [
    {
     "name": "stdout",
     "output_type": "stream",
     "text": [
      "The number of ramaining variants\n",
      "16373 /media/storage/TG/data/chip/superpop_split/genotypes/ALL.prune.in\n"
     ]
    }
   ],
   "source": [
    "variant_ids_file = f'{SPLIT_DIRECTORY}/genotypes/ALL.prune.in'\n",
    "\n",
    "print('The number of ramaining variants')\n",
    "!wc -l $variant_ids_file"
   ]
  },
  {
   "cell_type": "markdown",
   "metadata": {},
   "source": [
    "### [ 2 ] Federated PCA"
   ]
  },
  {
   "cell_type": "code",
   "execution_count": null,
   "metadata": {},
   "outputs": [],
   "source": [
    "federated_pca_runner.run()"
   ]
  },
  {
   "cell_type": "markdown",
   "metadata": {},
   "source": [
    "### [ 3 ] Plot Projections Results for All Nodes"
   ]
  },
  {
   "cell_type": "code",
   "execution_count": 17,
   "metadata": {},
   "outputs": [
    {
     "data": {
      "image/png": "[encoded data removed]",
      "text/plain": [
       "<Figure size 432x288 with 1 Axes>"
      ]
     },
     "metadata": {
      "needs_background": "light"
     },
     "output_type": "display_data"
    }
   ],
   "source": [
    "colors = {\n",
    "    'AFR': 'black',\n",
    "    'SAS': 'blue',\n",
    "    'EUR': 'red',\n",
    "    'AMR': 'green',\n",
    "    'EAS': 'grey'\n",
    "}\n",
    "\n",
    "for node in federated_pca.NODES[::-1]:\n",
    "    evectors = federated_pca.read_evectors_from_sscore(node)\n",
    "    plt.scatter(evectors.iloc[:, [0]], evectors.iloc[:, [1]], c=colors[node])\n",
    "\n",
    "plt.show()"
   ]
  },
  {
   "cell_type": "markdown",
   "metadata": {},
   "source": [
    "### [ * ] Centralized PCA with Plink"
   ]
  },
  {
   "cell_type": "code",
   "execution_count": null,
   "metadata": {},
   "outputs": [],
   "source": [
    "subprocess.run([\n",
    "    'plink2', '--pfile', federated_pca.SOURCE_FOLDER + '/ALL_filtered',\n",
    "    '--extract', variant_ids_file,\n",
    "    '--read-freq', federated_pca.PCA_FOLDER + '/ALL.acount',\n",
    "    '--pca', 'allele-wts', '2',\n",
    "    '--out', federated_pca.PCA_FOLDER + '/ALL'\n",
    "])\n",
    "\n",
    "subprocess.run([\n",
    "    'plink2', '--pfile', federated_pca.SOURCE_FOLDER + '/ALL_filtered',\n",
    "    '--extract', variant_ids_file,\n",
    "    '--read-freq', federated_pca.PCA_FOLDER + '/ALL.acount',\n",
    "    '--score', federated_pca.PCA_FOLDER + '/ALL.eigenvec.allele', '2', '5',\n",
    "    '--score-col-nums', '6-7',\n",
    "    '--out', federated_pca.PCA_FOLDER + '/ALL.projection'\n",
    "])"
   ]
  },
  {
   "cell_type": "code",
   "execution_count": 16,
   "metadata": {},
   "outputs": [
    {
     "data": {
      "image/png": "[encoded data removed]",
      "text/plain": [
       "<Figure size 432x288 with 1 Axes>"
      ]
     },
     "metadata": {
      "needs_background": "light"
     },
     "output_type": "display_data"
    }
   ],
   "source": [
    "samples = pd.read_csv('/media/storage/TG/data/chip/igsr_samples.tsv', sep='\\t', header=0)\n",
    "samples.head()\n",
    "\n",
    "\n",
    "input_sscore_file = federated_pca.PCA_FOLDER +  '/ALL.projection.sscore'\n",
    "sscore = pd.read_csv(input_sscore_file, sep='\\t', header=0)\n",
    "codes = pd.merge(sscore, samples, left_on='#IID', right_on='Sample name')['Superpopulation code'].to_numpy()\n",
    "\n",
    "evectors = sscore[sscore.columns[3:]]\n",
    "for node in federated_pca.NODES[::-1]:\n",
    "    selector = (codes == node)\n",
    "    plt.scatter(evectors.iloc[selector, [1]], evectors.iloc[selector, [0]], c=colors[node])"
   ]
  },
  {
   "cell_type": "markdown",
   "metadata": {},
   "source": [
    "### [ * ] All in Once"
   ]
  },
  {
   "cell_type": "code",
   "execution_count": null,
   "metadata": {},
   "outputs": [],
   "source": [
    "import os\n",
    "import time\n",
    "\n",
    "\n",
    "n_components = 10\n",
    "portions = [0.0005, 0.001, 0.002, 0.003, 0.004, 0.005, 0.01]\n",
    "ns_variants = []\n",
    "elapsed_times = []\n",
    "communication_costs = [] # FIXME: how to measure it?\n",
    "\n",
    "for iteration, portion in enumerate(portions):\n",
    "    print(f'MEASUREMENT {iteration + 1} OF {len(portions)}')\n",
    "\n",
    "    federated_pca.prune(portion=portion)\n",
    "    variant_ids_file = federated_pca.VARIANT_IDS_FOLDER + '/pruned.ids'\n",
    "    n_variants = pd.read_csv(variant_ids_file, sep='\\t', header=None).shape[0]\n",
    "    ns_variants.append(n_variants)\n",
    "\n",
    "    total_time = 0\n",
    "    start = time.time()\n",
    "\n",
    "    federated_pca.compute_allele_frequencies(federated_pca.ALL, variant_ids_file=variant_ids_file)\n",
    "    allele_frequencies_file = federated_pca.PCA_FOLDER + '/ALL.acount'\n",
    "    for node in federated_pca.NODES:\n",
    "        federated_pca.client(\n",
    "            node=node,\n",
    "            variant_ids_file=variant_ids_file,\n",
    "            allele_frequencies_file=allele_frequencies_file\n",
    "        )\n",
    "\n",
    "    evectors, evalues = federated_pca.server(federated_pca.NODES, n_components=n_components)\n",
    "    federated_pca.create_plink_eigenvec_allele_file(evectors, n_components=n_components)\n",
    "\n",
    "    plink_allele_projector = federated_pca.PCA_FOLDER + '/federated.eigenvec.allele'\n",
    "    for node in federated_pca.NODES:\n",
    "        federated_pca.client_projection(\n",
    "            node=node,\n",
    "            variant_ids_file=variant_ids_file,\n",
    "            allele_frequencies_file=allele_frequencies_file,\n",
    "            plink_allele_projector=plink_allele_projector,\n",
    "            n_components=n_components\n",
    "        )\n",
    "\n",
    "    end = time.time()\n",
    "    elapsed = end - start\n",
    "    elapsed_times.append(elapsed)\n",
    "\n",
    "    # Communication costs (Mb)\n",
    "    cost = 0\n",
    "\n",
    "    # [1] Alleles counts aggregation (approximation)\n",
    "    acount_file = os.path.join(federated_pca.PCA_FOLDER, federated_pca.ALL + '.acount')\n",
    "    cost += 6 * os.path.getsize(acount_file) / 1024 / 1024\n",
    "    \n",
    "    # [2] Local PCA results\n",
    "    for node in federated_pca.NODES:\n",
    "        eigenval_file = os.path.join(federated_pca.PCA_FOLDER, node + '.eigenval')\n",
    "        eigenvec_allele_file = os.path.join(federated_pca.PCA_FOLDER, node + '.eigenvec.allele')\n",
    "\n",
    "        cost += os.path.getsize(eigenval_file) / 1024 / 1024\n",
    "        cost += os.path.getsize(eigenvec_allele_file) / 1024 / 1024\n",
    "\n",
    "    # [3] Result PCA projection file to clients\n",
    "    federated_eigenvec_allele_file = os.path.join(federated_pca.PCA_FOLDER, 'federated.eigenvec.allele')\n",
    "    cost += os.path.getsize(federated_eigenvec_allele_file) / 1024 / 1024\n",
    "    \n",
    "    communication_costs.append(cost)"
   ]
  },
  {
   "cell_type": "code",
   "execution_count": 76,
   "metadata": {},
   "outputs": [
    {
     "data": {
      "text/plain": [
       "Text(0, 0.5, 'time [sec]')"
      ]
     },
     "execution_count": 76,
     "metadata": {},
     "output_type": "execute_result"
    },
    {
     "data": {
      "image/png": "[encoded data removed]",
      "text/plain": [
       "<Figure size 432x288 with 1 Axes>"
      ]
     },
     "metadata": {
      "needs_background": "light"
     },
     "output_type": "display_data"
    }
   ],
   "source": [
    "plt.plot(ns_variants, elapsed_times)\n",
    "plt.xlabel('n_variants')\n",
    "plt.ylabel('time [sec]')"
   ]
  },
  {
   "cell_type": "code",
   "execution_count": 96,
   "metadata": {},
   "outputs": [
    {
     "data": {
      "text/plain": [
       "Text(0, 0.5, 'communication_costs [Mb]')"
      ]
     },
     "execution_count": 96,
     "metadata": {},
     "output_type": "execute_result"
    },
    {
     "data": {
      "image/png": "[encoded data removed]",
      "text/plain": [
       "<Figure size 432x288 with 1 Axes>"
      ]
     },
     "metadata": {
      "needs_background": "light"
     },
     "output_type": "display_data"
    }
   ],
   "source": [
    "plt.plot(ns_variants, communication_costs)\n",
    "plt.xlabel('n_variants')\n",
    "plt.ylabel('communication_costs [Mb]')"
   ]
  }
 ],
 "metadata": {
  "kernelspec": {
   "display_name": "Python 3.9.9 ('genx')",
   "language": "python",
   "name": "python3"
  },
  "language_info": {
   "codemirror_mode": {
    "name": "ipython",
    "version": 3
   },
   "file_extension": ".py",
   "mimetype": "text/x-python",
   "name": "python",
   "nbconvert_exporter": "python",
   "pygments_lexer": "ipython3",
   "version": "3.9.9"
  },
  "orig_nbformat": 4,
  "vscode": {
   "interpreter": {
    "hash": "a86b368261a4531b2d34ccb985dd6eb61a4a2104b6e241a57f146a970a394674"
   }
  }
 },
 "nbformat": 4,
 "nbformat_minor": 2
}
