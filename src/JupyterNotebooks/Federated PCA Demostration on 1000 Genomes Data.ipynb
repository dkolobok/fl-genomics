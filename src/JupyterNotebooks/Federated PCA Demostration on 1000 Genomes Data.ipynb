{
 "cells": [
  {
   "cell_type": "markdown",
   "metadata": {},
   "source": [
    "# Federated PCA Demonstartion on 1000 Genomes Data"
   ]
  },
  {
   "cell_type": "code",
   "execution_count": 1,
   "metadata": {},
   "outputs": [],
   "source": [
    "%load_ext autoreload\n",
    "%autoreload 2"
   ]
  },
  {
   "cell_type": "code",
   "execution_count": 2,
   "metadata": {},
   "outputs": [],
   "source": [
    "\n",
    "import sys\n",
    "sys.path.insert(1, '/home/genxadmin/uk-biobank/src/preprocess')\n",
    "\n",
    "import subprocess\n",
    "\n",
    "import pandas as pd\n",
    "import matplotlib.pyplot as plt\n",
    "\n",
    "from preprocess.federated_pca import FederatedPCASimulationRunner"
   ]
  },
  {
   "cell_type": "markdown",
   "metadata": {},
   "source": [
    "### [ 0 ] Create Data Folders"
   ]
  },
  {
   "cell_type": "code",
   "execution_count": 4,
   "metadata": {},
   "outputs": [
    {
     "name": "stdout",
     "output_type": "stream",
     "text": [
      "['AFR', 'AMR', 'EAS', 'SAS', 'EUR']\n"
     ]
    }
   ],
   "source": [
    "SPLIT_DIRECTORY = '/mnt/genx-bio-share/TG/data/chip/superpop_split'\n",
    "federated_pca_runner = FederatedPCASimulationRunner(\n",
    "    source_folder=f'{SPLIT_DIRECTORY}/genotypes',\n",
    "    result_folder=f'{SPLIT_DIRECTORY}/federated_pca',\n",
    "    variant_ids_file=f'{SPLIT_DIRECTORY}/genotypes/ALL.prune.in',\n",
    "    n_components=20,\n",
    "    method='P-STACK',\n",
    "    nodes=['AFR', 'AMR', 'EAS', 'SAS', 'EUR']\n",
    ")\n",
    "\n",
    "# List of clients nodes\n",
    "print(federated_pca_runner.nodes)"
   ]
  },
  {
   "cell_type": "markdown",
   "metadata": {},
   "source": [
    "### [ 1 ] Variants Pruning (Simulation)"
   ]
  },
  {
   "cell_type": "code",
   "execution_count": 6,
   "metadata": {},
   "outputs": [],
   "source": [
    "from preprocess.pruning import PlinkPruningRunner\n",
    "\n",
    "PlinkPruningRunner(\n",
    "    source_directory=f'{SPLIT_DIRECTORY}/genotypes',\n",
    "    nodes=['AFR', 'AMR', 'EAS', 'SAS', 'EUR'],\n",
    "    result_filepath=f'{SPLIT_DIRECTORY}/genotypes/ALL.prune.in',\n",
    "    node_filename_template='%s_filtered'\n",
    ").run(window_size=1000, step=50, threshold=0.001)"
   ]
  },
  {
   "cell_type": "code",
   "execution_count": 7,
   "metadata": {},
   "outputs": [
    {
     "name": "stdout",
     "output_type": "stream",
     "text": [
      "The number of ramaining variants\n",
      "5829 /mnt/genx-bio-share/TG/data/chip/superpop_split/genotypes/ALL.prune.in\n"
     ]
    }
   ],
   "source": [
    "# variant_ids_file = federated_pca.VARIANT_IDS_FOLDER + '/pruned.ids'\n",
    "variant_ids_file = f'{SPLIT_DIRECTORY}/genotypes/ALL.prune.in'\n",
    "\n",
    "print('The number of ramaining variants')\n",
    "!wc -l $variant_ids_file"
   ]
  },
  {
   "cell_type": "markdown",
   "metadata": {},
   "source": [
    "### [ 2, 3, 4, 5 ] Using Federated PCA Simulation Runner"
   ]
  },
  {
   "cell_type": "code",
   "execution_count": null,
   "metadata": {},
   "outputs": [],
   "source": [
    "federated_pca_runner.run()"
   ]
  },
  {
   "cell_type": "markdown",
   "metadata": {},
   "source": [
    "### [ 2 ] Compute Allele Frequencies for ALL Data\n",
    "\n",
    "Summarized allele frequencies are used by plink on each client node for better plink PCA results."
   ]
  },
  {
   "cell_type": "code",
   "execution_count": null,
   "metadata": {},
   "outputs": [],
   "source": [
    "federated_pca.compute_allele_frequencies(federated_pca.ALL, variant_ids_file=variant_ids_file)"
   ]
  },
  {
   "cell_type": "markdown",
   "metadata": {},
   "source": [
    "### [ 3 ] Run Local PCA on Each Client"
   ]
  },
  {
   "cell_type": "code",
   "execution_count": null,
   "metadata": {},
   "outputs": [],
   "source": [
    "allele_frequencies_file = federated_pca.PCA_FOLDER + '/ALL.acount'\n",
    "for node in federated_pca.NODES:\n",
    "    federated_pca.client(\n",
    "        node=node,\n",
    "        variant_ids_file=variant_ids_file,\n",
    "        allele_frequencies_file=allele_frequencies_file\n",
    "    )"
   ]
  },
  {
   "cell_type": "markdown",
   "metadata": {},
   "source": [
    "### [ 4 ] Aggregate the Results on the Server to Compute the Joint PCA"
   ]
  },
  {
   "cell_type": "code",
   "execution_count": 12,
   "metadata": {},
   "outputs": [],
   "source": [
    "evectors, evalues = federated_pca.server(federated_pca.NODES, n_components=2)\n",
    "federated_pca.create_plink_eigenvec_allele_file(evectors, n_components=2)"
   ]
  },
  {
   "cell_type": "markdown",
   "metadata": {},
   "source": [
    "### [ 5 ] Project the Client Feature Space onto Result Eigenvectors"
   ]
  },
  {
   "cell_type": "code",
   "execution_count": null,
   "metadata": {},
   "outputs": [],
   "source": [
    "plink_allele_projector = federated_pca.PCA_FOLDER + '/federated.eigenvec.allele'\n",
    "for node in federated_pca.NODES:\n",
    "    federated_pca.client_projection(\n",
    "        node=node,\n",
    "        variant_ids_file=variant_ids_file,\n",
    "        allele_frequencies_file=allele_frequencies_file,\n",
    "        plink_allele_projector=plink_allele_projector,\n",
    "        n_components=2\n",
    "    )"
   ]
  },
  {
   "cell_type": "markdown",
   "metadata": {},
   "source": [
    "### [ 6 ] Plot Projections Results for All Nodes"
   ]
  },
  {
   "cell_type": "code",
   "execution_count": null,
   "metadata": {},
   "outputs": [],
   "source": [
    "colors = {\n",
    "    'AFR': 'black',\n",
    "    'SAS': 'blue',\n",
    "    'EUR': 'red',\n",
    "    'AMR': 'green',\n",
    "    'EAS': 'grey'\n",
    "}\n",
    "\n",
    "for node in federated_pca_runner.nodes:\n",
    "    evectors = pd.read_csv(f'{SPLIT_DIRECTORY}/federated_pca/{node}/fold_9_train_projections.csv.eigenvec.sscore', sep='\\t')\n",
    "    evectors = evectors.drop(evectors.columns[1:3], axis=1).rename(columns={'#IID': 'IID'}).set_index('IID')\n",
    "    plt.scatter(evectors.iloc[:, [1]], evectors.iloc[:, [2]], c=colors[node])\n",
    "\n",
    "plt.show()"
   ]
  },
  {
   "cell_type": "code",
   "execution_count": 67,
   "metadata": {},
   "outputs": [
    {
     "data": {
      "image/png": "[encoded data removed]",
      "text/plain": [
       "<Figure size 432x288 with 1 Axes>"
      ]
     },
     "metadata": {
      "needs_background": "light"
     },
     "output_type": "display_data"
    }
   ],
   "source": [
    "evectors = pd.read_csv(f'{SPLIT_DIRECTORY}/federated_pca/ALL/fold_3_train_projections.csv.eigenvec.sscore', sep='\\t')\n",
    "evectors = evectors.drop(evectors.columns[1:3], axis=1).rename(columns={'#IID': 'IID'}).set_index('IID')\n",
    "samples = pd.read_csv('/mnt/genx-bio-share/TG/data/chip/igsr_samples.tsv', sep='\\t', header=0)\n",
    "codes = pd.merge(evectors, samples, left_on='IID', right_on='Sample name')['Superpopulation code'].to_numpy()\n",
    "\n",
    "for node in federated_pca_runner.nodes:\n",
    "    selector = (codes == node)\n",
    "    plt.scatter(evectors.iloc[selector, [7]], evectors.iloc[selector, [8]], c=colors[node])\n",
    "\n",
    "plt.show()"
   ]
  },
  {
   "cell_type": "code",
   "execution_count": 68,
   "metadata": {},
   "outputs": [
    {
     "data": {
      "image/png": "[encoded data removed]",
      "text/plain": [
       "<Figure size 432x288 with 1 Axes>"
      ]
     },
     "metadata": {
      "needs_background": "light"
     },
     "output_type": "display_data"
    }
   ],
   "source": [
    "evectors = pd.read_csv(f'{SPLIT_DIRECTORY}/federated_pca/ALL/fold_9_train_projections.csv.eigenvec.sscore', sep='\\t')\n",
    "evectors = evectors.drop(evectors.columns[1:3], axis=1).rename(columns={'#IID': 'IID'}).set_index('IID')\n",
    "samples = pd.read_csv('/mnt/genx-bio-share/TG/data/chip/igsr_samples.tsv', sep='\\t', header=0)\n",
    "codes = pd.merge(evectors, samples, left_on='IID', right_on='Sample name')['Superpopulation code'].to_numpy()\n",
    "\n",
    "for node in federated_pca_runner.nodes:\n",
    "    selector = (codes == node)\n",
    "    plt.scatter(evectors.iloc[selector, [7]], evectors.iloc[selector, [8]], c=colors[node])\n",
    "\n",
    "plt.show()"
   ]
  },
  {
   "cell_type": "code",
   "execution_count": 38,
   "metadata": {},
   "outputs": [
    {
     "data": {
      "text/html": [
       "<div>\n",
       "<style scoped>\n",
       "    .dataframe tbody tr th:only-of-type {\n",
       "        vertical-align: middle;\n",
       "    }\n",
       "\n",
       "    .dataframe tbody tr th {\n",
       "        vertical-align: top;\n",
       "    }\n",
       "\n",
       "    .dataframe thead th {\n",
       "        text-align: right;\n",
       "    }\n",
       "</style>\n",
       "<table border=\"1\" class=\"dataframe\">\n",
       "  <thead>\n",
       "    <tr style=\"text-align: right;\">\n",
       "      <th></th>\n",
       "      <th>SCORE1_AVG</th>\n",
       "      <th>SCORE2_AVG</th>\n",
       "      <th>SCORE3_AVG</th>\n",
       "      <th>SCORE4_AVG</th>\n",
       "      <th>SCORE5_AVG</th>\n",
       "      <th>SCORE6_AVG</th>\n",
       "      <th>SCORE7_AVG</th>\n",
       "      <th>SCORE8_AVG</th>\n",
       "      <th>SCORE9_AVG</th>\n",
       "      <th>SCORE10_AVG</th>\n",
       "      <th>SCORE11_AVG</th>\n",
       "      <th>SCORE12_AVG</th>\n",
       "      <th>SCORE13_AVG</th>\n",
       "      <th>SCORE14_AVG</th>\n",
       "      <th>SCORE15_AVG</th>\n",
       "      <th>SCORE16_AVG</th>\n",
       "      <th>SCORE17_AVG</th>\n",
       "      <th>SCORE18_AVG</th>\n",
       "      <th>SCORE19_AVG</th>\n",
       "      <th>SCORE20_AVG</th>\n",
       "    </tr>\n",
       "    <tr>\n",
       "      <th>IID</th>\n",
       "      <th></th>\n",
       "      <th></th>\n",
       "      <th></th>\n",
       "      <th></th>\n",
       "      <th></th>\n",
       "      <th></th>\n",
       "      <th></th>\n",
       "      <th></th>\n",
       "      <th></th>\n",
       "      <th></th>\n",
       "      <th></th>\n",
       "      <th></th>\n",
       "      <th></th>\n",
       "      <th></th>\n",
       "      <th></th>\n",
       "      <th></th>\n",
       "      <th></th>\n",
       "      <th></th>\n",
       "      <th></th>\n",
       "      <th></th>\n",
       "    </tr>\n",
       "  </thead>\n",
       "  <tbody>\n",
       "    <tr>\n",
       "      <th>HG00096</th>\n",
       "      <td>-0.001118</td>\n",
       "      <td>0.002058</td>\n",
       "      <td>-0.000419</td>\n",
       "      <td>0.000588</td>\n",
       "      <td>0.000072</td>\n",
       "      <td>-0.000134</td>\n",
       "      <td>-0.000026</td>\n",
       "      <td>0.000175</td>\n",
       "      <td>-0.000006</td>\n",
       "      <td>0.000212</td>\n",
       "      <td>0.000391</td>\n",
       "      <td>0.000174</td>\n",
       "      <td>0.000076</td>\n",
       "      <td>0.000074</td>\n",
       "      <td>-0.000094</td>\n",
       "      <td>0.000132</td>\n",
       "      <td>-0.000061</td>\n",
       "      <td>-0.000362</td>\n",
       "      <td>0.000073</td>\n",
       "      <td>-0.000160</td>\n",
       "    </tr>\n",
       "    <tr>\n",
       "      <th>HG00099</th>\n",
       "      <td>-0.001033</td>\n",
       "      <td>0.001955</td>\n",
       "      <td>-0.000482</td>\n",
       "      <td>0.000560</td>\n",
       "      <td>0.000013</td>\n",
       "      <td>-0.000085</td>\n",
       "      <td>0.000041</td>\n",
       "      <td>0.000086</td>\n",
       "      <td>-0.000077</td>\n",
       "      <td>0.000118</td>\n",
       "      <td>0.000150</td>\n",
       "      <td>-0.000613</td>\n",
       "      <td>-0.000085</td>\n",
       "      <td>-0.000347</td>\n",
       "      <td>0.000026</td>\n",
       "      <td>0.000376</td>\n",
       "      <td>-0.000115</td>\n",
       "      <td>-0.000338</td>\n",
       "      <td>0.000198</td>\n",
       "      <td>0.000140</td>\n",
       "    </tr>\n",
       "    <tr>\n",
       "      <th>HG00101</th>\n",
       "      <td>-0.001126</td>\n",
       "      <td>0.001841</td>\n",
       "      <td>-0.000379</td>\n",
       "      <td>0.000543</td>\n",
       "      <td>-0.000099</td>\n",
       "      <td>-0.000334</td>\n",
       "      <td>-0.000068</td>\n",
       "      <td>0.000057</td>\n",
       "      <td>-0.000298</td>\n",
       "      <td>-0.000349</td>\n",
       "      <td>-0.000071</td>\n",
       "      <td>-0.000149</td>\n",
       "      <td>-0.000172</td>\n",
       "      <td>-0.000179</td>\n",
       "      <td>-0.000068</td>\n",
       "      <td>0.000425</td>\n",
       "      <td>-0.000165</td>\n",
       "      <td>-0.000117</td>\n",
       "      <td>-0.000078</td>\n",
       "      <td>-0.000250</td>\n",
       "    </tr>\n",
       "    <tr>\n",
       "      <th>HG00102</th>\n",
       "      <td>-0.001310</td>\n",
       "      <td>0.001928</td>\n",
       "      <td>-0.000215</td>\n",
       "      <td>0.000692</td>\n",
       "      <td>-0.000151</td>\n",
       "      <td>0.000036</td>\n",
       "      <td>-0.000091</td>\n",
       "      <td>0.000052</td>\n",
       "      <td>-0.000207</td>\n",
       "      <td>-0.000081</td>\n",
       "      <td>-0.000052</td>\n",
       "      <td>0.000034</td>\n",
       "      <td>-0.000008</td>\n",
       "      <td>-0.000142</td>\n",
       "      <td>-0.000055</td>\n",
       "      <td>0.000023</td>\n",
       "      <td>-0.000184</td>\n",
       "      <td>-0.000130</td>\n",
       "      <td>-0.000320</td>\n",
       "      <td>-0.000180</td>\n",
       "    </tr>\n",
       "    <tr>\n",
       "      <th>HG00104</th>\n",
       "      <td>-0.001104</td>\n",
       "      <td>0.001982</td>\n",
       "      <td>-0.000263</td>\n",
       "      <td>0.000615</td>\n",
       "      <td>-0.000117</td>\n",
       "      <td>-0.000297</td>\n",
       "      <td>-0.000029</td>\n",
       "      <td>-0.000279</td>\n",
       "      <td>0.000172</td>\n",
       "      <td>0.000156</td>\n",
       "      <td>0.000226</td>\n",
       "      <td>-0.000337</td>\n",
       "      <td>-0.000081</td>\n",
       "      <td>0.000067</td>\n",
       "      <td>-0.000037</td>\n",
       "      <td>0.000325</td>\n",
       "      <td>0.000082</td>\n",
       "      <td>-0.000295</td>\n",
       "      <td>0.000298</td>\n",
       "      <td>-0.000136</td>\n",
       "    </tr>\n",
       "  </tbody>\n",
       "</table>\n",
       "</div>"
      ],
      "text/plain": [
       "         SCORE1_AVG  SCORE2_AVG  SCORE3_AVG  SCORE4_AVG  SCORE5_AVG  \\\n",
       "IID                                                                   \n",
       "HG00096   -0.001118    0.002058   -0.000419    0.000588    0.000072   \n",
       "HG00099   -0.001033    0.001955   -0.000482    0.000560    0.000013   \n",
       "HG00101   -0.001126    0.001841   -0.000379    0.000543   -0.000099   \n",
       "HG00102   -0.001310    0.001928   -0.000215    0.000692   -0.000151   \n",
       "HG00104   -0.001104    0.001982   -0.000263    0.000615   -0.000117   \n",
       "\n",
       "         SCORE6_AVG  SCORE7_AVG  SCORE8_AVG  SCORE9_AVG  SCORE10_AVG  \\\n",
       "IID                                                                    \n",
       "HG00096   -0.000134   -0.000026    0.000175   -0.000006     0.000212   \n",
       "HG00099   -0.000085    0.000041    0.000086   -0.000077     0.000118   \n",
       "HG00101   -0.000334   -0.000068    0.000057   -0.000298    -0.000349   \n",
       "HG00102    0.000036   -0.000091    0.000052   -0.000207    -0.000081   \n",
       "HG00104   -0.000297   -0.000029   -0.000279    0.000172     0.000156   \n",
       "\n",
       "         SCORE11_AVG  SCORE12_AVG  SCORE13_AVG  SCORE14_AVG  SCORE15_AVG  \\\n",
       "IID                                                                        \n",
       "HG00096     0.000391     0.000174     0.000076     0.000074    -0.000094   \n",
       "HG00099     0.000150    -0.000613    -0.000085    -0.000347     0.000026   \n",
       "HG00101    -0.000071    -0.000149    -0.000172    -0.000179    -0.000068   \n",
       "HG00102    -0.000052     0.000034    -0.000008    -0.000142    -0.000055   \n",
       "HG00104     0.000226    -0.000337    -0.000081     0.000067    -0.000037   \n",
       "\n",
       "         SCORE16_AVG  SCORE17_AVG  SCORE18_AVG  SCORE19_AVG  SCORE20_AVG  \n",
       "IID                                                                       \n",
       "HG00096     0.000132    -0.000061    -0.000362     0.000073    -0.000160  \n",
       "HG00099     0.000376    -0.000115    -0.000338     0.000198     0.000140  \n",
       "HG00101     0.000425    -0.000165    -0.000117    -0.000078    -0.000250  \n",
       "HG00102     0.000023    -0.000184    -0.000130    -0.000320    -0.000180  \n",
       "HG00104     0.000325     0.000082    -0.000295     0.000298    -0.000136  "
      ]
     },
     "execution_count": 38,
     "metadata": {},
     "output_type": "execute_result"
    }
   ],
   "source": [
    "evectors.head()"
   ]
  },
  {
   "cell_type": "markdown",
   "metadata": {},
   "source": [
    "### [ * ] Centralized PCA with Plink"
   ]
  },
  {
   "cell_type": "code",
   "execution_count": null,
   "metadata": {},
   "outputs": [],
   "source": [
    "subprocess.run(['plink2',\n",
    "    '--pfile', f'{SPLIT_DIRECTORY}/genotypes/ALL/fold_0_train',\n",
    "    '--extract', f'{SPLIT_DIRECTORY}/genotypes/ALL.prune.in',\n",
    "    '--freq', 'counts',\n",
    "    '--out',  f'{SPLIT_DIRECTORY}/pca/ALL/fold_0_train_projections',\n",
    "    '--pca', 'allele-wts', '20'\n",
    "])\n",
    "\n",
    "for part in ['train', 'val', 'test']:\n",
    "    subprocess.run(['plink2',\n",
    "        '--pfile', f'{SPLIT_DIRECTORY}/genotypes/ALL/fold_0_{part}',\n",
    "        '--extract', f'{SPLIT_DIRECTORY}/genotypes/ALL.prune.in',\n",
    "        '--read-freq', f'{SPLIT_DIRECTORY}/pca/ALL/fold_0_train_projections.acount',\n",
    "        '--score', f'{SPLIT_DIRECTORY}/pca/ALL/fold_0_train_projections.eigenvec.allele',\n",
    "            '2', '5', 'header-read', 'no-mean-imputation', 'variance-standardize',\n",
    "        '--score-col-nums', '6-25',\n",
    "        '--out', f'{SPLIT_DIRECTORY}/pca/ALL/fold_0_{part}_projections.csv.eigenvec'\n",
    "    ])"
   ]
  },
  {
   "cell_type": "code",
   "execution_count": 53,
   "metadata": {},
   "outputs": [
    {
     "data": {
      "image/png": "[encoded data removed]",
      "text/plain": [
       "<Figure size 432x288 with 1 Axes>"
      ]
     },
     "metadata": {
      "needs_background": "light"
     },
     "output_type": "display_data"
    }
   ],
   "source": [
    "samples = pd.read_csv('/mnt/genx-bio-share/TG/data/chip/igsr_samples.tsv', sep='\\t', header=0)\n",
    "\n",
    "input_sscore_file = f'{SPLIT_DIRECTORY}/pca/ALL/fold_9_train_projections.csv.eigenvec.sscore'\n",
    "sscore = pd.read_csv(input_sscore_file, sep='\\t', header=0)\n",
    "codes = pd.merge(sscore, samples, left_on='#IID', right_on='Sample name')['Superpopulation code'].to_numpy()\n",
    "\n",
    "evectors = sscore[sscore.columns[3:]]\n",
    "for node in federated_pca_runner.nodes:\n",
    "    selector = (codes == node)\n",
    "    plt.scatter(-evectors.iloc[selector, [0]], evectors.iloc[selector, [1]], c=colors[node])"
   ]
  },
  {
   "cell_type": "markdown",
   "metadata": {},
   "source": [
    "### [ * ] All in Once"
   ]
  },
  {
   "cell_type": "code",
   "execution_count": null,
   "metadata": {},
   "outputs": [],
   "source": [
    "import os\n",
    "import time\n",
    "\n",
    "\n",
    "n_components = 10\n",
    "portions = [0.0005, 0.001, 0.002, 0.003, 0.004, 0.005, 0.01]\n",
    "ns_variants = []\n",
    "elapsed_times = []\n",
    "communication_costs = [] # FIXME: how to measure it?\n",
    "\n",
    "for iteration, portion in enumerate(portions):\n",
    "    print(f'MEASUREMENT {iteration + 1} OF {len(portions)}')\n",
    "\n",
    "    federated_pca.prune(portion=portion)\n",
    "    variant_ids_file = federated_pca.VARIANT_IDS_FOLDER + '/pruned.ids'\n",
    "    n_variants = pd.read_csv(variant_ids_file, sep='\\t', header=None).shape[0]\n",
    "    ns_variants.append(n_variants)\n",
    "\n",
    "    total_time = 0\n",
    "    start = time.time()\n",
    "\n",
    "    federated_pca.compute_allele_frequencies(federated_pca.ALL, variant_ids_file=variant_ids_file)\n",
    "    allele_frequencies_file = federated_pca.PCA_FOLDER + '/ALL.acount'\n",
    "    for node in federated_pca.NODES:\n",
    "        federated_pca.client(\n",
    "            node=node,\n",
    "            variant_ids_file=variant_ids_file,\n",
    "            allele_frequencies_file=allele_frequencies_file\n",
    "        )\n",
    "\n",
    "    evectors, evalues = federated_pca.server(federated_pca.NODES, n_components=n_components)\n",
    "    federated_pca.create_plink_eigenvec_allele_file(evectors, n_components=n_components)\n",
    "\n",
    "    plink_allele_projector = federated_pca.PCA_FOLDER + '/federated.eigenvec.allele'\n",
    "    for node in federated_pca.NODES:\n",
    "        federated_pca.client_projection(\n",
    "            node=node,\n",
    "            variant_ids_file=variant_ids_file,\n",
    "            allele_frequencies_file=allele_frequencies_file,\n",
    "            plink_allele_projector=plink_allele_projector,\n",
    "            n_components=n_components\n",
    "        )\n",
    "\n",
    "    end = time.time()\n",
    "    elapsed = end - start\n",
    "    elapsed_times.append(elapsed)\n",
    "\n",
    "    # Communication costs (Mb)\n",
    "    cost = 0\n",
    "\n",
    "    # [1] Alleles counts aggregation (approximation)\n",
    "    acount_file = os.path.join(federated_pca.PCA_FOLDER, federated_pca.ALL + '.acount')\n",
    "    cost += 6 * os.path.getsize(acount_file) / 1024 / 1024\n",
    "    \n",
    "    # [2] Local PCA results\n",
    "    for node in federated_pca.NODES:\n",
    "        eigenval_file = os.path.join(federated_pca.PCA_FOLDER, node + '.eigenval')\n",
    "        eigenvec_allele_file = os.path.join(federated_pca.PCA_FOLDER, node + '.eigenvec.allele')\n",
    "\n",
    "        cost += os.path.getsize(eigenval_file) / 1024 / 1024\n",
    "        cost += os.path.getsize(eigenvec_allele_file) / 1024 / 1024\n",
    "\n",
    "    # [3] Result PCA projection file to clients\n",
    "    federated_eigenvec_allele_file = os.path.join(federated_pca.PCA_FOLDER, 'federated.eigenvec.allele')\n",
    "    cost += os.path.getsize(federated_eigenvec_allele_file) / 1024 / 1024\n",
    "    \n",
    "    communication_costs.append(cost)"
   ]
  },
  {
   "cell_type": "code",
   "execution_count": 76,
   "metadata": {},
   "outputs": [
    {
     "data": {
      "text/plain": [
       "Text(0, 0.5, 'time [sec]')"
      ]
     },
     "execution_count": 76,
     "metadata": {},
     "output_type": "execute_result"
    },
    {
     "data": {
      "image/png": "[encoded data removed]",
      "text/plain": [
       "<Figure size 432x288 with 1 Axes>"
      ]
     },
     "metadata": {
      "needs_background": "light"
     },
     "output_type": "display_data"
    }
   ],
   "source": [
    "plt.plot(ns_variants, elapsed_times)\n",
    "plt.xlabel('n_variants')\n",
    "plt.ylabel('time [sec]')"
   ]
  },
  {
   "cell_type": "code",
   "execution_count": 96,
   "metadata": {},
   "outputs": [
    {
     "data": {
      "text/plain": [
       "Text(0, 0.5, 'communication_costs [Mb]')"
      ]
     },
     "execution_count": 96,
     "metadata": {},
     "output_type": "execute_result"
    },
    {
     "data": {
      "image/png": "[encoded data removed]",
      "text/plain": [
       "<Figure size 432x288 with 1 Axes>"
      ]
     },
     "metadata": {
      "needs_background": "light"
     },
     "output_type": "display_data"
    }
   ],
   "source": [
    "plt.plot(ns_variants, communication_costs)\n",
    "plt.xlabel('n_variants')\n",
    "plt.ylabel('communication_costs [Mb]')"
   ]
  },
  {
   "cell_type": "markdown",
   "metadata": {},
   "source": [
    "### ..."
   ]
  },
  {
   "cell_type": "code",
   "execution_count": 52,
   "metadata": {},
   "outputs": [
    {
     "data": {
      "text/plain": [
       "272.95415966259134"
      ]
     },
     "execution_count": 52,
     "metadata": {},
     "output_type": "execute_result"
    }
   ],
   "source": [
    "import pandas as pd\n",
    "import numpy as np\n",
    "\n",
    "file = '/mnt/genx-bio-share/TG/data/chip/superpop_split/federated_pca/ALL/fold_9_train.eigenvec.allele'\n",
    "fed = pd.read_csv(file, sep='\\t', header=0)\n",
    "\n",
    "np.linalg.norm(fed['PC1'])\n"
   ]
  },
  {
   "cell_type": "code",
   "execution_count": 50,
   "metadata": {},
   "outputs": [
    {
     "data": {
      "text/plain": [
       "273.2826886395811"
      ]
     },
     "execution_count": 50,
     "metadata": {},
     "output_type": "execute_result"
    }
   ],
   "source": [
    "np.linalg.norm(fed['PC11'])"
   ]
  },
  {
   "cell_type": "code",
   "execution_count": 51,
   "metadata": {},
   "outputs": [
    {
     "data": {
      "text/plain": [
       "645.4761778655582"
      ]
     },
     "execution_count": 51,
     "metadata": {},
     "output_type": "execute_result"
    }
   ],
   "source": [
    "file = '/mnt/genx-bio-share/TG/data/chip/superpop_split/pca/ALL/fold_9_train_projections.eigenvec.allele'\n",
    "cnt = pd.read_csv(file, sep='\\t', header=0)\n",
    "\n",
    "np.linalg.norm(cnt['PC1'])"
   ]
  }
 ],
 "metadata": {
  "kernelspec": {
   "display_name": "Python 3.9.9 ('genx')",
   "language": "python",
   "name": "python3"
  },
  "language_info": {
   "codemirror_mode": {
    "name": "ipython",
    "version": 3
   },
   "file_extension": ".py",
   "mimetype": "text/x-python",
   "name": "python",
   "nbconvert_exporter": "python",
   "pygments_lexer": "ipython3",
   "version": "3.9.9"
  },
  "orig_nbformat": 4,
  "vscode": {
   "interpreter": {
    "hash": "a86b368261a4531b2d34ccb985dd6eb61a4a2104b6e241a57f146a970a394674"
   }
  }
 },
 "nbformat": 4,
 "nbformat_minor": 2
}
