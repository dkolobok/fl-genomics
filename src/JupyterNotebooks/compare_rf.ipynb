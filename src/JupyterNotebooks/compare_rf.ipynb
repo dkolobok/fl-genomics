{
 "cells": [
  {
   "cell_type": "code",
   "execution_count": 1,
   "metadata": {
    "pycharm": {
     "name": "#%%\n"
    }
   },
   "outputs": [],
   "source": [
    "import pandas as pd"
   ]
  },
  {
   "cell_type": "markdown",
   "metadata": {
    "pycharm": {
     "name": "#%% md\n"
    }
   },
   "source": [
    "## Import new data"
   ]
  },
  {
   "cell_type": "code",
   "execution_count": 2,
   "metadata": {
    "pycharm": {
     "name": "#%%\n"
    }
   },
   "outputs": [
    {
     "data": {
      "text/plain": "       IID ancestry\n0  HG00144      GBR\n1  HG00264      GBR\n2  HG00237      GBR\n3  HG00410      CHS\n4  HG00097      GBR",
      "text/html": "<div>\n<style scoped>\n    .dataframe tbody tr th:only-of-type {\n        vertical-align: middle;\n    }\n\n    .dataframe tbody tr th {\n        vertical-align: top;\n    }\n\n    .dataframe thead th {\n        text-align: right;\n    }\n</style>\n<table border=\"1\" class=\"dataframe\">\n  <thead>\n    <tr style=\"text-align: right;\">\n      <th></th>\n      <th>IID</th>\n      <th>ancestry</th>\n    </tr>\n  </thead>\n  <tbody>\n    <tr>\n      <th>0</th>\n      <td>HG00144</td>\n      <td>GBR</td>\n    </tr>\n    <tr>\n      <th>1</th>\n      <td>HG00264</td>\n      <td>GBR</td>\n    </tr>\n    <tr>\n      <th>2</th>\n      <td>HG00237</td>\n      <td>GBR</td>\n    </tr>\n    <tr>\n      <th>3</th>\n      <td>HG00410</td>\n      <td>CHS</td>\n    </tr>\n    <tr>\n      <th>4</th>\n      <td>HG00097</td>\n      <td>GBR</td>\n    </tr>\n  </tbody>\n</table>\n</div>"
     },
     "execution_count": 2,
     "metadata": {},
     "output_type": "execute_result"
    }
   ],
   "source": [
    "new_test = pd.read_table('/media/storage/TG/data_compare/new_data/y/fold_0_test.tsv')\n",
    "new_train = pd.read_table('/media/storage/TG/data_compare/new_data/y/fold_0_train.tsv')\n",
    "new_val = pd.read_table('/media/storage/TG/data_compare/new_data/y/fold_0_val.tsv')\n",
    "new = pd.concat([new_val, new_test, new_train])\n",
    "new.head()"
   ]
  },
  {
   "cell_type": "code",
   "execution_count": 3,
   "metadata": {
    "pycharm": {
     "name": "#%%\n"
    }
   },
   "outputs": [],
   "source": [
    "new_test_x = pd.read_table('/media/storage/TG/data_compare/new_data/x/fold_0_test_projections.csv.eigenvec.sscore')\n",
    "new_train_x = pd.read_table('/media/storage/TG/data_compare/new_data/x/fold_0_train_projections.csv.eigenvec.sscore')\n",
    "new_val_x = pd.read_table('/media/storage/TG/data_compare/new_data/x/fold_0_val_projections.csv.eigenvec.sscore')"
   ]
  },
  {
   "cell_type": "markdown",
   "metadata": {
    "pycharm": {
     "name": "#%% md\n"
    }
   },
   "source": [
    "## Import old data"
   ]
  },
  {
   "cell_type": "code",
   "execution_count": 4,
   "metadata": {
    "pycharm": {
     "name": "#%%\n"
    }
   },
   "outputs": [
    {
     "data": {
      "text/plain": "       IID  pop\n0  HG00096  GBR\n1  HG00097  GBR\n2  HG00099  GBR\n3  HG00100  GBR\n4  HG00101  GBR",
      "text/html": "<div>\n<style scoped>\n    .dataframe tbody tr th:only-of-type {\n        vertical-align: middle;\n    }\n\n    .dataframe tbody tr th {\n        vertical-align: top;\n    }\n\n    .dataframe thead th {\n        text-align: right;\n    }\n</style>\n<table border=\"1\" class=\"dataframe\">\n  <thead>\n    <tr style=\"text-align: right;\">\n      <th></th>\n      <th>IID</th>\n      <th>pop</th>\n    </tr>\n  </thead>\n  <tbody>\n    <tr>\n      <th>0</th>\n      <td>HG00096</td>\n      <td>GBR</td>\n    </tr>\n    <tr>\n      <th>1</th>\n      <td>HG00097</td>\n      <td>GBR</td>\n    </tr>\n    <tr>\n      <th>2</th>\n      <td>HG00099</td>\n      <td>GBR</td>\n    </tr>\n    <tr>\n      <th>3</th>\n      <td>HG00100</td>\n      <td>GBR</td>\n    </tr>\n    <tr>\n      <th>4</th>\n      <td>HG00101</td>\n      <td>GBR</td>\n    </tr>\n  </tbody>\n</table>\n</div>"
     },
     "execution_count": 4,
     "metadata": {},
     "output_type": "execute_result"
    }
   ],
   "source": [
    "old = pd.read_csv('/media/storage/TG/data_compare/old_data/y/y_all.csv')\n",
    "old.head()"
   ]
  },
  {
   "cell_type": "markdown",
   "metadata": {
    "pycharm": {
     "name": "#%% md\n"
    }
   },
   "source": [
    "## Merge old and new"
   ]
  },
  {
   "cell_type": "code",
   "execution_count": 5,
   "metadata": {
    "pycharm": {
     "name": "#%%\n"
    }
   },
   "outputs": [
    {
     "data": {
      "text/plain": "1415"
     },
     "execution_count": 5,
     "metadata": {},
     "output_type": "execute_result"
    }
   ],
   "source": [
    "all = pd.merge(old, new)\n",
    "all.head()\n",
    "samples = list(all['IID'].values)\n",
    "len(samples)"
   ]
  },
  {
   "cell_type": "markdown",
   "metadata": {
    "pycharm": {
     "name": "#%% md\n"
    }
   },
   "source": [
    "## Compare new and old ancestry"
   ]
  },
  {
   "cell_type": "code",
   "execution_count": 6,
   "metadata": {
    "pycharm": {
     "name": "#%%\n"
    }
   },
   "outputs": [
    {
     "data": {
      "text/plain": "Empty DataFrame\nColumns: [IID, pop, ancestry]\nIndex: []",
      "text/html": "<div>\n<style scoped>\n    .dataframe tbody tr th:only-of-type {\n        vertical-align: middle;\n    }\n\n    .dataframe tbody tr th {\n        vertical-align: top;\n    }\n\n    .dataframe thead th {\n        text-align: right;\n    }\n</style>\n<table border=\"1\" class=\"dataframe\">\n  <thead>\n    <tr style=\"text-align: right;\">\n      <th></th>\n      <th>IID</th>\n      <th>pop</th>\n      <th>ancestry</th>\n    </tr>\n  </thead>\n  <tbody>\n  </tbody>\n</table>\n</div>"
     },
     "execution_count": 6,
     "metadata": {},
     "output_type": "execute_result"
    }
   ],
   "source": [
    "err_samples = all[all['pop'] != all['ancestry']]\n",
    "err_samples.head()"
   ]
  },
  {
   "cell_type": "markdown",
   "metadata": {
    "pycharm": {
     "name": "#%% md\n"
    }
   },
   "source": [
    "## Samples that are present in old_data, but not in new_data"
   ]
  },
  {
   "cell_type": "code",
   "execution_count": 12,
   "metadata": {
    "pycharm": {
     "name": "#%%\n"
    }
   },
   "outputs": [],
   "source": [
    "new.rename(columns = {'ancestry':'pop'}, inplace = True)\n",
    "diff = old.merge(new, how = 'outer' ,indicator=True).loc[lambda x : x['_merge']=='left_only']\n",
    "filtered = new[~new['IID'].isin(samples)]\n",
    "filtered.to_csv('/media/storage/TG/data_compare/new_data/samples.tsv', sep='\\t', index=False)"
   ]
  },
  {
   "cell_type": "markdown",
   "metadata": {
    "pycharm": {
     "name": "#%% md\n"
    }
   },
   "source": [
    "## Save filtered new_data"
   ]
  },
  {
   "cell_type": "code",
   "execution_count": 9,
   "metadata": {
    "pycharm": {
     "name": "#%%\n"
    }
   },
   "outputs": [],
   "source": [
    "save = new_test[new_test['IID'].isin(samples)]\n",
    "save.to_csv('/media/storage/TG/data_compare/new_data/y_filtered/fold_0_test.tsv', sep='\\t', index=False)\n",
    "save = new_train[new_train['IID'].isin(samples)]\n",
    "save.to_csv('/media/storage/TG/data_compare/new_data/y_filtered/fold_0_train.tsv', sep='\\t', index=False)\n",
    "save = new_val[new_val['IID'].isin(samples)]\n",
    "save.to_csv('/media/storage/TG/data_compare/new_data/y_filtered/fold_0_val.tsv', sep='\\t', index=False)"
   ]
  },
  {
   "cell_type": "code",
   "execution_count": 14,
   "metadata": {
    "pycharm": {
     "name": "#%%\n"
    }
   },
   "outputs": [],
   "source": [
    "save = new_test_x[new_test_x['#IID'].isin(samples)]\n",
    "save.to_csv('/media/storage/TG/data_compare/new_data/x_filtered/fold_0_test_projections.csv.eigenvec.sscore', sep='\\t', index=False)\n",
    "save = new_train_x[new_train_x['#IID'].isin(samples)]\n",
    "save.to_csv('/media/storage/TG/data_compare/new_data/x_filtered/fold_0_train_projections.csv.eigenvec.sscore', sep='\\t', index=False)\n",
    "save = new_val_x[new_val_x['#IID'].isin(samples)]\n",
    "save.to_csv('/media/storage/TG/data_compare/new_data/x_filtered/fold_0_val_projections.csv.eigenvec.sscore', sep='\\t', index=False)"
   ]
  },
  {
   "cell_type": "markdown",
   "metadata": {
    "pycharm": {
     "name": "#%% md\n"
    }
   },
   "source": [
    "## Run experiment with cross validation"
   ]
  },
  {
   "cell_type": "code",
   "execution_count": 29,
   "metadata": {
    "pycharm": {
     "name": "#%%\n"
    }
   },
   "outputs": [
    {
     "name": "stdout",
     "output_type": "stream",
     "text": [
      "/home/genxadmin/test_ukb/src/local\n",
      "/home/genxadmin/miniconda3/envs/uk/lib/python3.9/site-packages/xgboost/compat.py:36: FutureWarning: pandas.Int64Index is deprecated and will be removed from pandas in a future version. Use pandas.Index with the appropriate dtype instead.\n",
      "  from pandas import MultiIndex, Int64Index\n",
      "{'study': 'tg', 'split_dir': '/media/storage/TG/data_compare', 'node': 'ALL', 'fold_index': 0, 'phenotype': {'name': 'ancestry'}, 'data': {'genotype': {'root': '/media/storage/TG/data/chip/superpop_split/genotypes/${node}/fold_${fold_index}', 'train': '${.root}_train', 'val': '${.root}_val', 'test': '${.root}_test'}, 'x_reduced': {'root': '${split_dir}/new_data/x_filtered/fold_${fold_index}', 'train': '${.root}_train_projections.csv.eigenvec.sscore', 'val': '${.root}_val_projections.csv.eigenvec.sscore', 'test': '${.root}_test_projections.csv.eigenvec.sscore'}, 'phenotype': {'name': 'ancestry', 'root': '${split_dir}/new_data/y_filtered/fold_${fold_index}', 'train': '${.root}_train.tsv', 'val': '${.root}_val.tsv', 'test': '${.root}_test.tsv'}}, 'model': {'name': 'random_forest', 'params': {'max_depth': None, 'min_samples_leaf': 1, 'n_estimators': 100}}, 'experiment': {'name': 'local-models-tg', 'include_genotype': True, 'include_covariates': False, 'random_state': 0, 'test_samples_limit': None, 'gpus': 0}}\n",
      "dict_keys(['mlp_classifier', 'random_forest'])\n",
      "[2022-08-01 10:30:04,156][root][INFO] - Loading data\n",
      "[2022-08-01 10:30:04,168][root][INFO] - Loading sample indices\n",
      "[2022-08-01 10:30:04,216][root][INFO] - 20 features loaded\n",
      "2022/08/01 10:30:04 INFO mlflow.tracking.fluent: Experiment with name 'local-models-tg' does not exist. Creating a new experiment.\n",
      "[2022-08-01 10:30:04,292][root][INFO] - Training\n",
      "{'fit_time': array([0.34803534, 0.34181333, 0.33814836, 0.34395027, 0.33951092,\n",
      "       0.34043574, 0.34205604, 0.35287786, 0.33985043, 0.34079313]), 'score_time': array([0.011096  , 0.01089907, 0.01042247, 0.01063991, 0.01041722,\n",
      "       0.01075578, 0.0106082 , 0.01030874, 0.01069617, 0.01088381]), 'test_score': array([0.97887324, 0.97183099, 0.98591549, 0.98591549, 0.97887324,\n",
      "       1.        , 0.9929078 , 0.9858156 , 0.9929078 , 1.        ]), 'train_score': array([1., 1., 1., 1., 1., 1., 1., 1., 1., 1.])}\n",
      "Error in atexit._run_exitfuncs:\n",
      "Traceback (most recent call last):\n",
      "  File \"/home/genxadmin/miniconda3/envs/uk/lib/python3.9/site-packages/mlflow/tracking/fluent.py\", line 371, in end_run\n",
      "    MlflowClient().set_terminated(run.info.run_id, status)\n",
      "  File \"/home/genxadmin/miniconda3/envs/uk/lib/python3.9/site-packages/mlflow/tracking/client.py\", line 1466, in set_terminated\n",
      "    self._tracking_client.set_terminated(run_id, status, end_time)\n",
      "  File \"/home/genxadmin/miniconda3/envs/uk/lib/python3.9/site-packages/mlflow/tracking/_tracking_service/client.py\", line 411, in set_terminated\n",
      "    self.store.update_run_info(\n",
      "  File \"/home/genxadmin/miniconda3/envs/uk/lib/python3.9/site-packages/mlflow/store/tracking/file_store.py\", line 477, in update_run_info\n",
      "    run_info = self._get_run_info(run_id)\n",
      "  File \"/home/genxadmin/miniconda3/envs/uk/lib/python3.9/site-packages/mlflow/store/tracking/file_store.py\", line 549, in _get_run_info\n",
      "    raise MlflowException(\n",
      "mlflow.exceptions.MlflowException: Run '3947529b48d8476480c548aa16380360' not found\n",
      "/home/genxadmin/test_ukb/src/JupyterNotebooks\n"
     ]
    }
   ],
   "source": [
    "%cd ../local\n",
    "!python experiment.py\n",
    "%cd ../JupyterNotebooks"
   ]
  },
  {
   "cell_type": "markdown",
   "metadata": {
    "pycharm": {
     "name": "#%% md\n"
    }
   },
   "source": [
    "## Results\n",
    "```\n",
    "'test_score': array([0.97887324, 0.97183099, 0.98591549, 0.98591549, 0.97887324, 1., 0.9929078, 0.9858156, 0.9929078, 1.]),\n",
    "'train_score': array([1., 1., 1., 1., 1., 1., 1., 1., 1., 1.])}\n",
    "```\n"
   ]
  }
 ],
 "metadata": {
  "kernelspec": {
   "display_name": "Python 3 (ipykernel)",
   "language": "python",
   "name": "python3"
  },
  "language_info": {
   "codemirror_mode": {
    "name": "ipython",
    "version": 3
   },
   "file_extension": ".py",
   "mimetype": "text/x-python",
   "name": "python",
   "nbconvert_exporter": "python",
   "pygments_lexer": "ipython3",
   "version": "3.9.7"
  }
 },
 "nbformat": 4,
 "nbformat_minor": 1
}