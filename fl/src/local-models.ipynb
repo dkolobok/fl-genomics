{
 "cells": [
  {
   "cell_type": "code",
   "execution_count": 1,
   "metadata": {},
   "outputs": [
    {
     "name": "stderr",
     "output_type": "stream",
     "text": [
      "/usr/local/lib/python3.7/site-packages/dask/config.py:168: YAMLLoadWarning: calling yaml.load() without Loader=... is deprecated, as the default Loader is unsafe. Please read https://msg.pyyaml.org/load for full details.\n",
      "  data = yaml.load(f.read()) or {}\n",
      "/usr/local/lib/python3.7/site-packages/dask/dataframe/utils.py:13: FutureWarning: pandas.util.testing is deprecated. Use the functions in the public API at pandas.testing instead.\n",
      "  import pandas.util.testing as tm\n",
      "/usr/local/lib/python3.7/site-packages/distributed/config.py:20: YAMLLoadWarning: calling yaml.load() without Loader=... is deprecated, as the default Loader is unsafe. Please read https://msg.pyyaml.org/load for full details.\n",
      "  defaults = yaml.load(f)\n"
     ]
    }
   ],
   "source": [
    "import os\n",
    "import torch\n",
    "from torch.utils.data import TensorDataset\n",
    "import numpy\n",
    "from numpy import hstack\n",
    "from sklearn.preprocessing import StandardScaler\n",
    "from xgboost import XGBRegressor\n",
    "\n",
    "from omegaconf import DictConfig\n",
    "import hydra\n",
    "import mlflow\n",
    "\n",
    "from model.models import EnsembleLASSO\n",
    "from datasets.memory import load_from_pgen, load_phenotype, load_covariates\n",
    "from datasets.lightning import prepare_trainer\n",
    "from sklearn.metrics import r2_score\n",
    "\n",
    "from logging.config import dictConfig\n",
    "import yaml\n",
    "\n"
   ]
  },
  {
   "cell_type": "code",
   "execution_count": null,
   "metadata": {},
   "outputs": [],
   "source": [
    "# @hydra.main(config_path='../configs/local', config_name='default')\n",
    "def local_experiment(cfg: DictConfig):\n",
    "    s = StandardScaler()\n",
    "\n",
    "    X_train = s.fit_transform(hstack((load_from_pgen(cfg.data.genotype.train, cfg.data.gwas, snp_count=cfg.experiment.snp_count),\n",
    "                      load_covariates(cfg.data.covariates.train))))\n",
    "    X_val = s.transform(hstack((load_from_pgen(cfg.data.genotype.val, cfg.data.gwas, snp_count=cfg.experiment.snp_count),\n",
    "                    load_covariates(cfg.data.covariates.val))))\n",
    "    X_test = s.transform(hstack((load_from_pgen(cfg.data.genotype.test, cfg.data.gwas, snp_count=cfg.experiment.snp_count),\n",
    "                     load_covariates(cfg.data.covariates.test))))\n",
    "    \n",
    "#     X_train = load_from_pgen(cfg.data.genotype.train, cfg.data.gwas, snp_count=cfg.experiment.snp_count)\n",
    "#     X_val = load_from_pgen(cfg.data.genotype.val, cfg.data.gwas, snp_count=cfg.experiment.snp_count)\n",
    "#     X_test = load_from_pgen(cfg.data.genotype.test, cfg.data.gwas, snp_count=cfg.experiment.snp_count)\n",
    "\n",
    "#     X_train = load_covariates(cfg.data.covariates.train)\n",
    "#     X_val = load_covariates(cfg.data.covariates.val)\n",
    "#     X_test = load_covariates(cfg.data.covariates.test)\n",
    "\n",
    "    y_train = load_phenotype(cfg.data.phenotype.train)\n",
    "    y_val = load_phenotype(cfg.data.phenotype.val)\n",
    "    y_test = load_phenotype(cfg.data.phenotype.test)    \n",
    "    \n",
    "    \n",
    "    mlflow.set_experiment('local-models')\n",
    "    with mlflow.start_run(tags={\n",
    "                            'name': 'xgboost',\n",
    "                            'type': 'local',\n",
    "                            'split': cfg.split_dir.split('/')[-1],\n",
    "                            'phenotype': cfg.phenotype.name,\n",
    "                            'node_index': str(cfg.node_index),\n",
    "                            'snp_count': str(cfg.experiment.snp_count),\n",
    "                            'gwas_path': cfg.data.gwas\n",
    "                            }\n",
    "                        ) as run:\n",
    "        \n",
    "        model = XGBRegressor(max_depth=2)\n",
    "\n",
    "        print(\"Training\")\n",
    "        model.fit(X_train, y_train, eval_set=[(X_val, y_val)])\n",
    "        y_preds_test = model.predict(X_test)\n",
    "        y_preds_train = model.predict(X_train)\n",
    "        y_preds_val = model.predict(X_val)\n",
    "        \n",
    "        train_r2 = r2_score(y_train, y_preds_train)\n",
    "        test_r2 = r2_score(y_test, y_preds_test)\n",
    "        val_r2 = r2_score(y_val, y_preds_val)\n",
    "        \n",
    "        mlflow.log_metric('train_r2', train_r2)\n",
    "        mlflow.log_metric('val_r2', val_r2)\n",
    "        mlflow.log_metric('test_r2', test_r2)\n",
    "#         model = EnsembleLASSO(train_dataset, val_dataset, test_dataset=test_dataset, alpha_start=cfg.model.alpha_start, alpha_end=cfg.model.alpha_end, input_size=input_size, batch_size=cfg.model.batch_size,\n",
    "#                               hidden_size=cfg.model.hidden_size)\n",
    "#         trainer = prepare_trainer('models', 'logs', f'ensemble_lasso/{cfg.phenotype.name}', f'run{run.info.run_id}', gpus=cfg.experiment.gpus, precision=cfg.model.precision,\n",
    "#                                     max_epochs=cfg.model.max_epochs, weights_summary='full', patience=10, log_every_n_steps=5)\n",
    "#         trainer.fit(model)\n",
    "\n",
    "#         best_model = EnsembleLASSO.load_from_checkpoint(trainer.checkpoint_callback.best_model_path,\n",
    "#                                             train_dataset=train_dataset, val_dataset=val_dataset, \n",
    "#                                             input_size=input_size, batch_size=cfg.model.batch_size,\n",
    "#                                             hidden_size=cfg.model.hidden_size, alpha_start=cfg.model.alpha_start, \n",
    "#                                             alpha_end=cfg.model.alpha_end, num_workers=1,\n",
    "#                                             total_steps=cfg.model.max_epochs)\n",
    "\n",
    "#         best_model.eval()\n",
    "\n",
    "#         preds = best_model.predict(model.train_dataloader()).cpu().numpy()\n",
    "#         val_preds = best_model.predict(model.val_dataloader()).cpu().numpy()\n",
    "#         test_preds = best_model.predict(model.test_dataloader()).cpu().numpy()\n",
    "#         max_val_r2 = 0.0\n",
    "#         best_col = 0\n",
    "\n",
    "#         ln_train_r2s = []\n",
    "#         ln_val_r2s = []\n",
    "#         for col in range(cfg.model.hidden_size):\n",
    "#             train_r2 = r2_score(y_train, preds[:, col])\n",
    "#             val_r2 = r2_score(y_val, val_preds[:, col])\n",
    "#             ln_train_r2s.append(train_r2)\n",
    "#             ln_val_r2s.append(val_r2)\n",
    "#             if val_r2 > max_val_r2:\n",
    "#                 max_val_r2 = val_r2\n",
    "#                 best_col = col\n",
    "#             print(f'for alpha {best_model.alphas[col]:.4f} train_r2 is {train_r2:.4f}, val_r2 is {val_r2:.4f}')\n",
    "        \n",
    "        \n",
    "#         print(f'test r2 for best alpha: {r2_score(y_test, test_preds[:, best_col]):.4f}')\n",
    "        \n",
    "#         train_r2 = r2_score(y_train, preds[:, best_col])\n",
    "#         val_r2 = r2_score(y_val, val_preds[:, best_col])\n",
    "#         test_r2 = r2_score(y_test, test_preds[:, best_col])\n",
    "        \n",
    "#         mlflow.log_metric('train_r2', train_r2)\n",
    "#         mlflow.log_metric('val_r2', val_r2)\n",
    "#         mlflow.log_metric('test_r2', test_r2)\n",
    "        \n",
    "#         print(f'train_r2: {train_r2}')\n",
    "#         print(f'val_r2: {val_r2}')\n",
    "#         print(f'test_r2: {test_r2}')\n",
    "#     model = LinearRegression()\n",
    "#     print(\"Training\")\n",
    "#     model.fit(X_train, y_train)\n",
    "#     y_preds_test = model.predict(X_test)\n",
    "#     print(f\"r2: {r2_score(y_test, y_preds_test)}\")\n",
    "    \n",
    "\n",
    "if __name__ == '__main__':\n",
    "    with open('configs/local/default.yaml', 'r') as f:\n",
    "        cfg = DictConfig(yaml.load(f))\n",
    "    local_experiment(cfg)"
   ]
  },
  {
   "cell_type": "markdown",
   "metadata": {},
   "source": [
    "# Only covariates"
   ]
  },
  {
   "cell_type": "code",
   "execution_count": 2,
   "metadata": {},
   "outputs": [],
   "source": [
    "from sklearn.svm import SVR\n",
    "from sklearn.linear_model import BayesianRidge, SGDRegressor, LinearRegression, Lasso, ElasticNet\n",
    "from sklearn.kernel_ridge import KernelRidge"
   ]
  },
  {
   "cell_type": "code",
   "execution_count": 3,
   "metadata": {},
   "outputs": [
    {
     "name": "stderr",
     "output_type": "stream",
     "text": [
      "/usr/local/lib/python3.7/site-packages/ipykernel_launcher.py:2: YAMLLoadWarning: calling yaml.load() without Loader=... is deprecated, as the default Loader is unsafe. Please read https://msg.pyyaml.org/load for full details.\n",
      "  \n"
     ]
    }
   ],
   "source": [
    "with open('configs/local/default.yaml', 'r') as f:\n",
    "    cfg = DictConfig(yaml.load(f))"
   ]
  },
  {
   "cell_type": "code",
   "execution_count": 4,
   "metadata": {},
   "outputs": [],
   "source": [
    "s = StandardScaler()\n",
    "\n",
    "# Only keep age/sex\n",
    "X_train = s.fit_transform(load_covariates(cfg.data.covariates.train)[:, -2:])\n",
    "X_val = s.transform(load_covariates(cfg.data.covariates.val)[:, -2:])\n",
    "X_test = s.transform(load_covariates(cfg.data.covariates.test)[:, -2:])\n",
    "\n",
    "# X_train = load_from_pgen(cfg.data.genotype.train, cfg.data.gwas, snp_count=cfg.experiment.snp_count)\n",
    "# X_val = load_from_pgen(cfg.data.genotype.val, cfg.data.gwas, snp_count=cfg.experiment.snp_count)\n",
    "# X_test = load_from_pgen(cfg.data.genotype.test, cfg.data.gwas, snp_count=cfg.experiment.snp_count)\n",
    "\n",
    "\n",
    "# X_train = s.fit_transform(hstack((load_from_pgen(cfg.data.genotype.train, cfg.data.gwas, snp_count=cfg.experiment.snp_count),\n",
    "#                   load_covariates(cfg.data.covariates.train))))\n",
    "# X_val = s.transform(hstack((load_from_pgen(cfg.data.genotype.val, cfg.data.gwas, snp_count=cfg.experiment.snp_count),\n",
    "#                 load_covariates(cfg.data.covariates.val))))\n",
    "# X_test = s.transform(hstack((load_from_pgen(cfg.data.genotype.test, cfg.data.gwas, snp_count=cfg.experiment.snp_count),\n",
    "#                  load_covariates(cfg.data.covariates.test))))\n",
    "\n",
    "\n",
    "y_train = load_phenotype(cfg.data.phenotype.train)\n",
    "y_val = load_phenotype(cfg.data.phenotype.val)\n",
    "y_test = load_phenotype(cfg.data.phenotype.test)"
   ]
  },
  {
   "cell_type": "code",
   "execution_count": 29,
   "metadata": {},
   "outputs": [
    {
     "name": "stdout",
     "output_type": "stream",
     "text": [
      "Training\n",
      "train r2: -102.1524850181854\n",
      "test r2: -102.19441180843478\n"
     ]
    }
   ],
   "source": [
    "model = LinearRegression()\n",
    "# model = ElasticNet()\n",
    "# model = Lasso()\n",
    "\n",
    "# model = SVR() # works\n",
    "# model = BayesianRidge() # no\n",
    "# model = SGDRegressor() # works\n",
    "# model = KernelRidge() # no\n",
    "\n",
    "# model = XGBRegressor(max_depth=2)\n",
    "\n",
    "print(\"Training\")\n",
    "model.fit(X_train, y_train)\n",
    "# model.fit(X_train, y_train, eval_set=(X_val, y_val))\n",
    "\n",
    "y_preds_test = model.predict(X_test)\n",
    "y_preds_train = model.predict(X_train)\n",
    "print(f\"train r2: {r2_score(y_train, y_preds_train)}\")\n",
    "print(f\"test r2: {r2_score(y_test, y_preds_test)}\")"
   ]
  },
  {
   "cell_type": "code",
   "execution_count": null,
   "metadata": {},
   "outputs": [],
   "source": []
  },
  {
   "cell_type": "code",
   "execution_count": null,
   "metadata": {},
   "outputs": [],
   "source": []
  }
 ],
 "metadata": {
  "kernelspec": {
   "display_name": "Python 3",
   "language": "python",
   "name": "python3"
  },
  "language_info": {
   "codemirror_mode": {
    "name": "ipython",
    "version": 3
   },
   "file_extension": ".py",
   "mimetype": "text/x-python",
   "name": "python",
   "nbconvert_exporter": "python",
   "pygments_lexer": "ipython3",
   "version": "3.7.3"
  }
 },
 "nbformat": 4,
 "nbformat_minor": 2
}
