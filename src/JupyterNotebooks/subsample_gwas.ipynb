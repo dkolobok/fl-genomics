{
 "cells": [
  {
   "cell_type": "code",
   "execution_count": 1,
   "id": "67f0457e",
   "metadata": {},
   "outputs": [],
   "source": [
    "import pandas as pd\n",
    "import os\n",
    "\n",
    "import sys\n",
    "sys.path.append('..')\n",
    "\n",
    "from utils.plink import run_plink\n"
   ]
  },
  {
   "cell_type": "code",
   "execution_count": 2,
   "id": "816b01a3",
   "metadata": {},
   "outputs": [],
   "source": [
    "subsample_id_dir = '/trinity/home/s.mishra/subsample_ids/'\n",
    "sample_ids_source = '/trinity/home/s.mishra/test/tg_split/split_ids/node_0/fold_0_train.tsv'"
   ]
  },
  {
   "cell_type": "markdown",
   "id": "f00973fe",
   "metadata": {},
   "source": [
    "Save subsampled sample IDs"
   ]
  },
  {
   "cell_type": "code",
   "execution_count": 16,
   "id": "657d33c7",
   "metadata": {},
   "outputs": [],
   "source": [
    "\n",
    "n_times = 10\n",
    "n_samples = 7500\n",
    "\n",
    "all_samples = pd.read_table(sample_ids_source)\n",
    "for i in range(n_times):\n",
    "    all_samples.sample(n_samples).to_csv(os.path.join(subsample_id_dir, f'{i}.csv'), sep='\\t', index=False)\n"
   ]
  },
  {
   "cell_type": "markdown",
   "id": "026d0a2e",
   "metadata": {},
   "source": [
    "Run GWAS on all phenotypes and subsample folds"
   ]
  },
  {
   "cell_type": "code",
   "execution_count": null,
   "id": "32848e2f",
   "metadata": {},
   "outputs": [],
   "source": [
    "phenotypes = ['standing_height',\n",
    "              'platelet_count',\n",
    "              'platelet_volume',\n",
    "              'body_mass_index',\n",
    "              'basal_metabolic_rate',\n",
    "              'hls_reticulocyte_count',\n",
    "              'forced_vital_capacity',\n",
    "              'erythrocyte_count',\n",
    "              'reticulocyte_count',\n",
    "              'mean_sphered_cell_volume',\n",
    "              'triglycerides',\n",
    "              'alanine_aminotransferase']\n",
    "split_path = '/trinity/home/s.mishra/test/tg_split/'\n",
    "\n",
    "for phenotype in phenotypes:\n",
    "\n",
    "    phenotype_path = os.path.join(split_path, 'phenotypes', phenotype, 'node_0', 'fold_0_train.tsv')\n",
    "    genotype_path = os.path.join(split_path, 'genotypes', 'node_0', 'fold_0_train')\n",
    "    covariates_path = os.path.join(split_path, 'covariates', phenotype, 'node_0', 'fold_0_train.tsv.normalized')\n",
    "\n",
    "    for i in range(1,10):\n",
    "        subsample_ids_path = os.path.join(subsample_id_dir, f'{i}.csv')\n",
    "        out_path = f'/trinity/home/s.mishra/subsample_gwas_results/{phenotype}_fold_{i}'\n",
    "        run_plink(args_list=['--glm', 'no-x-sex', 'log10', 'hide-covar'],\n",
    "                  args_dict={\n",
    "            '--pfile': genotype_path,\n",
    "            '--pheno': phenotype_path,\n",
    "            '--covar': covariates_path,\n",
    "            '--keep': subsample_ids_path,\n",
    "            '--out': out_path,\n",
    "            '--threads': '4',\n",
    "            '--memory': '24000'\n",
    "        })\n"
   ]
  }
 ],
 "metadata": {
  "kernelspec": {
   "display_name": "fl",
   "language": "python",
   "name": "fl"
  },
  "language_info": {
   "codemirror_mode": {
    "name": "ipython",
    "version": 3
   },
   "file_extension": ".py",
   "mimetype": "text/x-python",
   "name": "python",
   "nbconvert_exporter": "python",
   "pygments_lexer": "ipython3",
   "version": "3.9.9"
  }
 },
 "nbformat": 4,
 "nbformat_minor": 5
}
