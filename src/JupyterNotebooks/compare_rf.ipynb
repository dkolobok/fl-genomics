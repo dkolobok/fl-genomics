{
 "cells": [
  {
   "cell_type": "code",
   "execution_count": null,
   "outputs": [],
   "source": [
    "import pandas as pd"
   ],
   "metadata": {
    "collapsed": false,
    "pycharm": {
     "name": "#%%\n"
    }
   }
  },
  {
   "cell_type": "markdown",
   "source": [
    "## Import new data"
   ],
   "metadata": {
    "collapsed": false,
    "pycharm": {
     "name": "#%% md\n"
    }
   }
  },
  {
   "cell_type": "code",
   "execution_count": 2,
   "outputs": [
    {
     "data": {
      "text/plain": "       IID ancestry\n0  HG00144      GBR\n1  HG00264      GBR\n2  HG00237      GBR\n3  HG00410      CHS\n4  HG00097      GBR",
      "text/html": "<div>\n<style scoped>\n    .dataframe tbody tr th:only-of-type {\n        vertical-align: middle;\n    }\n\n    .dataframe tbody tr th {\n        vertical-align: top;\n    }\n\n    .dataframe thead th {\n        text-align: right;\n    }\n</style>\n<table border=\"1\" class=\"dataframe\">\n  <thead>\n    <tr style=\"text-align: right;\">\n      <th></th>\n      <th>IID</th>\n      <th>ancestry</th>\n    </tr>\n  </thead>\n  <tbody>\n    <tr>\n      <th>0</th>\n      <td>HG00144</td>\n      <td>GBR</td>\n    </tr>\n    <tr>\n      <th>1</th>\n      <td>HG00264</td>\n      <td>GBR</td>\n    </tr>\n    <tr>\n      <th>2</th>\n      <td>HG00237</td>\n      <td>GBR</td>\n    </tr>\n    <tr>\n      <th>3</th>\n      <td>HG00410</td>\n      <td>CHS</td>\n    </tr>\n    <tr>\n      <th>4</th>\n      <td>HG00097</td>\n      <td>GBR</td>\n    </tr>\n  </tbody>\n</table>\n</div>"
     },
     "execution_count": 2,
     "metadata": {},
     "output_type": "execute_result"
    }
   ],
   "source": [
    "new_test = pd.read_table('/media/storage/TG/data_compare/new_data/y/fold_0_test.tsv')\n",
    "new_train = pd.read_table('/media/storage/TG/data_compare/new_data/y/fold_0_train.tsv')\n",
    "new_val = pd.read_table('/media/storage/TG/data_compare/new_data/y/fold_0_val.tsv')\n",
    "new = pd.concat([new_val, new_test, new_train])\n",
    "new.head()"
   ],
   "metadata": {
    "collapsed": false,
    "pycharm": {
     "name": "#%%\n"
    }
   }
  },
  {
   "cell_type": "code",
   "execution_count": 3,
   "outputs": [],
   "source": [
    "new_test_x = pd.read_table('/media/storage/TG/data_compare/new_data/x/fold_0_test_projections.csv.eigenvec.sscore')\n",
    "new_train_x = pd.read_table('/media/storage/TG/data_compare/new_data/x/fold_0_train_projections.csv.eigenvec.sscore')\n",
    "new_val_x = pd.read_table('/media/storage/TG/data_compare/new_data/x/fold_0_val_projections.csv.eigenvec.sscore')"
   ],
   "metadata": {
    "collapsed": false,
    "pycharm": {
     "name": "#%%\n"
    }
   }
  },
  {
   "cell_type": "markdown",
   "source": [
    "## Import old data"
   ],
   "metadata": {
    "collapsed": false,
    "pycharm": {
     "name": "#%% md\n"
    }
   }
  },
  {
   "cell_type": "code",
   "execution_count": 4,
   "outputs": [
    {
     "data": {
      "text/plain": "       IID  pop\n0  HG00096  GBR\n1  HG00097  GBR\n2  HG00099  GBR\n3  HG00100  GBR\n4  HG00101  GBR",
      "text/html": "<div>\n<style scoped>\n    .dataframe tbody tr th:only-of-type {\n        vertical-align: middle;\n    }\n\n    .dataframe tbody tr th {\n        vertical-align: top;\n    }\n\n    .dataframe thead th {\n        text-align: right;\n    }\n</style>\n<table border=\"1\" class=\"dataframe\">\n  <thead>\n    <tr style=\"text-align: right;\">\n      <th></th>\n      <th>IID</th>\n      <th>pop</th>\n    </tr>\n  </thead>\n  <tbody>\n    <tr>\n      <th>0</th>\n      <td>HG00096</td>\n      <td>GBR</td>\n    </tr>\n    <tr>\n      <th>1</th>\n      <td>HG00097</td>\n      <td>GBR</td>\n    </tr>\n    <tr>\n      <th>2</th>\n      <td>HG00099</td>\n      <td>GBR</td>\n    </tr>\n    <tr>\n      <th>3</th>\n      <td>HG00100</td>\n      <td>GBR</td>\n    </tr>\n    <tr>\n      <th>4</th>\n      <td>HG00101</td>\n      <td>GBR</td>\n    </tr>\n  </tbody>\n</table>\n</div>"
     },
     "execution_count": 4,
     "metadata": {},
     "output_type": "execute_result"
    }
   ],
   "source": [
    "old = pd.read_csv('/media/storage/TG/data_compare/old_data/y/y_all.csv')\n",
    "old.head()"
   ],
   "metadata": {
    "collapsed": false,
    "pycharm": {
     "name": "#%%\n"
    }
   }
  },
  {
   "cell_type": "markdown",
   "source": [
    "## Merge old and new"
   ],
   "metadata": {
    "collapsed": false,
    "pycharm": {
     "name": "#%% md\n"
    }
   }
  },
  {
   "cell_type": "code",
   "execution_count": 13,
   "outputs": [
    {
     "data": {
      "text/plain": "1415"
     },
     "execution_count": 13,
     "metadata": {},
     "output_type": "execute_result"
    }
   ],
   "source": [
    "all = pd.merge(old, new)\n",
    "all.head()\n",
    "samples = list(all['IID'].values)\n",
    "len(samples)"
   ],
   "metadata": {
    "collapsed": false,
    "pycharm": {
     "name": "#%%\n"
    }
   }
  },
  {
   "cell_type": "markdown",
   "source": [
    "## Compare new and old ancestry"
   ],
   "metadata": {
    "collapsed": false,
    "pycharm": {
     "name": "#%% md\n"
    }
   }
  },
  {
   "cell_type": "code",
   "execution_count": 6,
   "outputs": [
    {
     "data": {
      "text/plain": "Empty DataFrame\nColumns: [IID, pop, ancestry]\nIndex: []",
      "text/html": "<div>\n<style scoped>\n    .dataframe tbody tr th:only-of-type {\n        vertical-align: middle;\n    }\n\n    .dataframe tbody tr th {\n        vertical-align: top;\n    }\n\n    .dataframe thead th {\n        text-align: right;\n    }\n</style>\n<table border=\"1\" class=\"dataframe\">\n  <thead>\n    <tr style=\"text-align: right;\">\n      <th></th>\n      <th>IID</th>\n      <th>pop</th>\n      <th>ancestry</th>\n    </tr>\n  </thead>\n  <tbody>\n  </tbody>\n</table>\n</div>"
     },
     "execution_count": 6,
     "metadata": {},
     "output_type": "execute_result"
    }
   ],
   "source": [
    "err_samples = all[all['pop'] != all['ancestry']]\n",
    "err_samples.head()"
   ],
   "metadata": {
    "collapsed": false,
    "pycharm": {
     "name": "#%%\n"
    }
   }
  },
  {
   "cell_type": "markdown",
   "source": [
    "## Samples that are present in old_data, but not in new_data"
   ],
   "metadata": {
    "collapsed": false,
    "pycharm": {
     "name": "#%% md\n"
    }
   }
  },
  {
   "cell_type": "code",
   "execution_count": 7,
   "outputs": [
    {
     "data": {
      "text/plain": "          IID  pop\n39    HG00142  GBR\n48    HG00155  GBR\n407   HG02067  KHV\n496   HG02681  PJL\n657   HG03351  ESN\n667   HG03382  MSL\n671   HG03394  MSL\n686   HG03451  MSL\n756   HG03673  STU\n771   HG03696  STU\n881   HG03998  STU\n924   HG04210  STU\n939   NA18511  YRI\n1155  NA19027  LWK\n1215  NA19129  YRI\n1227  NA19153  YRI\n1253  NA19238  YRI\n1282  NA19355  LWK\n1285  NA19374  LWK\n1291  NA19380  LWK\n1297  NA19397  LWK\n1310  NA19443  LWK\n1408  NA20792  TSI",
      "text/html": "<div>\n<style scoped>\n    .dataframe tbody tr th:only-of-type {\n        vertical-align: middle;\n    }\n\n    .dataframe tbody tr th {\n        vertical-align: top;\n    }\n\n    .dataframe thead th {\n        text-align: right;\n    }\n</style>\n<table border=\"1\" class=\"dataframe\">\n  <thead>\n    <tr style=\"text-align: right;\">\n      <th></th>\n      <th>IID</th>\n      <th>pop</th>\n    </tr>\n  </thead>\n  <tbody>\n    <tr>\n      <th>39</th>\n      <td>HG00142</td>\n      <td>GBR</td>\n    </tr>\n    <tr>\n      <th>48</th>\n      <td>HG00155</td>\n      <td>GBR</td>\n    </tr>\n    <tr>\n      <th>407</th>\n      <td>HG02067</td>\n      <td>KHV</td>\n    </tr>\n    <tr>\n      <th>496</th>\n      <td>HG02681</td>\n      <td>PJL</td>\n    </tr>\n    <tr>\n      <th>657</th>\n      <td>HG03351</td>\n      <td>ESN</td>\n    </tr>\n    <tr>\n      <th>667</th>\n      <td>HG03382</td>\n      <td>MSL</td>\n    </tr>\n    <tr>\n      <th>671</th>\n      <td>HG03394</td>\n      <td>MSL</td>\n    </tr>\n    <tr>\n      <th>686</th>\n      <td>HG03451</td>\n      <td>MSL</td>\n    </tr>\n    <tr>\n      <th>756</th>\n      <td>HG03673</td>\n      <td>STU</td>\n    </tr>\n    <tr>\n      <th>771</th>\n      <td>HG03696</td>\n      <td>STU</td>\n    </tr>\n    <tr>\n      <th>881</th>\n      <td>HG03998</td>\n      <td>STU</td>\n    </tr>\n    <tr>\n      <th>924</th>\n      <td>HG04210</td>\n      <td>STU</td>\n    </tr>\n    <tr>\n      <th>939</th>\n      <td>NA18511</td>\n      <td>YRI</td>\n    </tr>\n    <tr>\n      <th>1155</th>\n      <td>NA19027</td>\n      <td>LWK</td>\n    </tr>\n    <tr>\n      <th>1215</th>\n      <td>NA19129</td>\n      <td>YRI</td>\n    </tr>\n    <tr>\n      <th>1227</th>\n      <td>NA19153</td>\n      <td>YRI</td>\n    </tr>\n    <tr>\n      <th>1253</th>\n      <td>NA19238</td>\n      <td>YRI</td>\n    </tr>\n    <tr>\n      <th>1282</th>\n      <td>NA19355</td>\n      <td>LWK</td>\n    </tr>\n    <tr>\n      <th>1285</th>\n      <td>NA19374</td>\n      <td>LWK</td>\n    </tr>\n    <tr>\n      <th>1291</th>\n      <td>NA19380</td>\n      <td>LWK</td>\n    </tr>\n    <tr>\n      <th>1297</th>\n      <td>NA19397</td>\n      <td>LWK</td>\n    </tr>\n    <tr>\n      <th>1310</th>\n      <td>NA19443</td>\n      <td>LWK</td>\n    </tr>\n    <tr>\n      <th>1408</th>\n      <td>NA20792</td>\n      <td>TSI</td>\n    </tr>\n  </tbody>\n</table>\n</div>"
     },
     "execution_count": 7,
     "metadata": {},
     "output_type": "execute_result"
    }
   ],
   "source": [
    "new.rename(columns = {'ancestry':'pop'}, inplace = True)\n",
    "diff = old.merge(new, how = 'outer' ,indicator=True).loc[lambda x : x['_merge']=='left_only']\n",
    "diff[['IID', 'pop']]"
   ],
   "metadata": {
    "collapsed": false,
    "pycharm": {
     "name": "#%%\n"
    }
   }
  },
  {
   "cell_type": "markdown",
   "source": [
    "## Save filtered new_data"
   ],
   "metadata": {
    "collapsed": false,
    "pycharm": {
     "name": "#%% md\n"
    }
   }
  },
  {
   "cell_type": "code",
   "execution_count": 9,
   "outputs": [],
   "source": [
    "save = new_test[new_test['IID'].isin(samples)]\n",
    "save.to_csv('/media/storage/TG/data_compare/new_data/y_filtered/fold_0_test.tsv', sep='\\t', index=False)\n",
    "save = new_train[new_train['#IID'].isin(samples)]\n",
    "save.to_csv('/media/storage/TG/data_compare/new_data/y_filtered/fold_0_train.tsv', sep='\\t', index=False)\n",
    "save = new_val[new_val['IID'].isin(samples)]\n",
    "save.to_csv('/media/storage/TG/data_compare/new_data/y_filtered/fold_0_val.tsv', sep='\\t', index=False)"
   ],
   "metadata": {
    "collapsed": false,
    "pycharm": {
     "name": "#%%\n"
    }
   }
  },
  {
   "cell_type": "code",
   "execution_count": 12,
   "outputs": [],
   "source": [
    "save = new_test_x[new_test_x['#IID'].isin(samples)]\n",
    "save.to_csv('/media/storage/TG/data_compare/new_data/x_filtered/fold_0_test_projections.csv.eigenvec.sscore', sep='\\t', index=False)\n",
    "save = new_train_x[new_train_x['#IID'].isin(samples)]\n",
    "save.to_csv('/media/storage/TG/data_compare/new_data/x_filtered/fold_0_train_projections.csv.eigenvec.sscore', sep='\\t', index=False)\n",
    "save = new_val_x[new_val_x['#IID'].isin(samples)]\n",
    "save.to_csv('/media/storage/TG/data_compare/new_data/x_filtered/fold_0_val_projections.csv.eigenvec.sscore', sep='\\t', index=False)"
   ],
   "metadata": {
    "collapsed": false,
    "pycharm": {
     "name": "#%%\n"
    }
   }
  },
  {
   "cell_type": "markdown",
   "source": [
    "## Run experiment"
   ],
   "metadata": {
    "collapsed": false,
    "pycharm": {
     "name": "#%% md\n"
    }
   }
  },
  {
   "cell_type": "code",
   "execution_count": null,
   "outputs": [],
   "source": [
    "!python ../local/experiment.py\n"
   ],
   "metadata": {
    "collapsed": false,
    "pycharm": {
     "name": "#%%\n"
    }
   }
  }
 ],
 "metadata": {
  "kernelspec": {
   "display_name": "Python 3",
   "language": "python",
   "name": "python3"
  },
  "language_info": {
   "codemirror_mode": {
    "name": "ipython",
    "version": 2
   },
   "file_extension": ".py",
   "mimetype": "text/x-python",
   "name": "python",
   "nbconvert_exporter": "python",
   "pygments_lexer": "ipython2",
   "version": "2.7.6"
  }
 },
 "nbformat": 4,
 "nbformat_minor": 0
}