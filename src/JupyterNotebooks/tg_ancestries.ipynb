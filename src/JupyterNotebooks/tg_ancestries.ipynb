{
 "cells": [
  {
   "cell_type": "code",
   "execution_count": 12,
   "id": "44974353",
   "metadata": {},
   "outputs": [],
   "source": [
    "import pandas as pd\n",
    "import pickle\n",
    "import numpy as np\n",
    "from collections import ChainMap\n",
    "\n",
    "import plotly.express as px\n",
    "import matplotlib.pyplot as plt"
   ]
  },
  {
   "cell_type": "code",
   "execution_count": null,
   "id": "ba988383",
   "metadata": {},
   "outputs": [],
   "source": [
    "# Arguments for \n",
    "\n",
    "#   --extract variants\n",
    "#   --out ukb_1kg_projections\n",
    "#   --pfile /gpfs/gpfs0/ukb_data/plink/plink\n",
    "#   --read-freq unphased.qc.acount\n",
    "#   --score unphased.qc.pca.eigenvec.var 2 3 variance-standardize\n",
    "#   --score-col-nums 5-24"
   ]
  },
  {
   "cell_type": "code",
   "execution_count": 2,
   "id": "da2f6098",
   "metadata": {},
   "outputs": [],
   "source": [
    "UKB_TG_PROJECTIONS_PATH = '/trinity/home/s.mishra/1kg/ukb_1kg_projections.sscore'\n",
    "TG_ANCESTRY_MODEL_PATH = '/trinity/home/s.mishra/1kg/model.pkl'\n",
    "SUPERPOPULATIONS_OUTPUT_PATH = '/trinity/home/s.mishra/uk-biobank/superpopulations.csv'"
   ]
  },
  {
   "cell_type": "code",
   "execution_count": 3,
   "id": "29c8e96e",
   "metadata": {},
   "outputs": [],
   "source": [
    "superpopulations = {\n",
    "    0: ['CEU', 'TSI', 'GBR', 'FIN', 'IBS'],\n",
    "    1: ['GIH', 'PJL', 'BEB', 'STU', 'ITU'],\n",
    "    2: ['YRI', 'LWK', 'GWD', 'MSL', 'ESN'],\n",
    "    3: ['CHB', 'JPT', 'CHS', 'CDX', 'KHV', 'CHD'],\n",
    "    4: ['ASW', 'ACB', 'MXL', 'PUR', 'CLM', 'PEL']\n",
    "}\n",
    "\n",
    "superpopulations_map = dict(ChainMap(*[{pop: i for pop in superpopulations[i]} for i in range(5)]))"
   ]
  },
  {
   "cell_type": "code",
   "execution_count": 4,
   "id": "c36e7ed2",
   "metadata": {},
   "outputs": [
    {
     "name": "stderr",
     "output_type": "stream",
     "text": [
      "/trinity/home/s.mishra/.conda/envs/fl/lib/python3.9/site-packages/sklearn/base.py:329: UserWarning: Trying to unpickle estimator DecisionTreeClassifier from version 1.0.1 when using version 1.1.1. This might lead to breaking code or invalid results. Use at your own risk. For more info please refer to:\n",
      "https://scikit-learn.org/stable/model_persistence.html#security-maintainability-limitations\n",
      "  warnings.warn(\n",
      "/trinity/home/s.mishra/.conda/envs/fl/lib/python3.9/site-packages/sklearn/base.py:329: UserWarning: Trying to unpickle estimator RandomForestClassifier from version 1.0.1 when using version 1.1.1. This might lead to breaking code or invalid results. Use at your own risk. For more info please refer to:\n",
      "https://scikit-learn.org/stable/model_persistence.html#security-maintainability-limitations\n",
      "  warnings.warn(\n",
      "/trinity/home/s.mishra/.conda/envs/fl/lib/python3.9/site-packages/sklearn/base.py:450: UserWarning: X does not have valid feature names, but RandomForestClassifier was fitted with feature names\n",
      "  warnings.warn(\n"
     ]
    }
   ],
   "source": [
    "ukb_tg_projections = pd.read_table(UKB_TG_PROJECTIONS_PATH)\n",
    "X = ukb_tg_projections.iloc[:, 4:].values\n",
    "ancestry_model = pickle.load(open(TG_ANCESTRY_MODEL_PATH, 'rb'))\n",
    "ukb_tg_projections['pred_ancestry'] = ancestry_model.predict(X)\n",
    "ukb_tg_projections['pred_superpopulation'] = np.vectorize(lambda ancestry: superpopulations_map[ancestry])(ukb_tg_projections.pred_ancestry)\n",
    "ukb_tg_projections.loc[:, ['IID', 'pred_superpopulation']].to_csv(SUPERPOPULATIONS_OUTPUT_PATH, index=False)"
   ]
  },
  {
   "cell_type": "code",
   "execution_count": 41,
   "id": "73680b11",
   "metadata": {},
   "outputs": [
    {
     "data": {
      "text/plain": [
       "0    461102\n",
       "1     10656\n",
       "2      7309\n",
       "4      6596\n",
       "3      2714\n",
       "Name: pred_superpopulation, dtype: int64"
      ]
     },
     "execution_count": 41,
     "metadata": {},
     "output_type": "execute_result"
    }
   ],
   "source": [
    "ukb_tg_projections.pred_superpopulation.value_counts()"
   ]
  },
  {
   "cell_type": "code",
   "execution_count": 45,
   "id": "0fe53f86",
   "metadata": {},
   "outputs": [
    {
     "data": {
      "text/plain": [
       "GBR    453581\n",
       "PJL      8537\n",
       "TSI      7234\n",
       "PUR      6161\n",
       "LWK      4031\n",
       "YRI      3219\n",
       "CHB      1560\n",
       "STU      1191\n",
       "BEB       928\n",
       "KHV       875\n",
       "PEL       435\n",
       "FIN       287\n",
       "JPT       279\n",
       "MSL        54\n",
       "ESN         5\n",
       "Name: pred_ancestry, dtype: int64"
      ]
     },
     "execution_count": 45,
     "metadata": {},
     "output_type": "execute_result"
    }
   ],
   "source": [
    "ukb_tg_projections.pred_ancestry.value_counts()"
   ]
  },
  {
   "cell_type": "code",
   "execution_count": 49,
   "id": "b9bc6f7e",
   "metadata": {},
   "outputs": [],
   "source": [
    "px.scatter(ukb_tg_projections, x='SCORE1_AVG', y='SCORE2_AVG', color='pred_ancestry').write_html('ancestries.html')\n",
    "px.scatter(ukb_tg_projections, x='SCORE3_AVG', y='SCORE4_AVG', color='pred_superpopulation').write_html('superpopulations_pc3v4.html')\n",
    "px.scatter(ukb_tg_projections, x='SCORE1_AVG', y='SCORE2_AVG', color='pred_superpopulation').write_html('superpopulations_pc1v2.html')"
   ]
  },
  {
   "cell_type": "code",
   "execution_count": 50,
   "id": "05625aae",
   "metadata": {},
   "outputs": [],
   "source": []
  },
  {
   "cell_type": "code",
   "execution_count": 5,
   "id": "2a057cdc",
   "metadata": {},
   "outputs": [
    {
     "name": "stderr",
     "output_type": "stream",
     "text": [
      "/trinity/home/s.mishra/.conda/envs/fl/lib/python3.9/site-packages/sklearn/base.py:450: UserWarning: X does not have valid feature names, but RandomForestClassifier was fitted with feature names\n",
      "  warnings.warn(\n"
     ]
    }
   ],
   "source": [
    "probs = ancestry_model.predict_proba(X)"
   ]
  },
  {
   "cell_type": "code",
   "execution_count": 13,
   "id": "aa38c6e1",
   "metadata": {},
   "outputs": [
    {
     "data": {
      "image/png": "[encoded data removed]",
      "text/plain": [
       "<Figure size 432x288 with 1 Axes>"
      ]
     },
     "metadata": {
      "needs_background": "light"
     },
     "output_type": "display_data"
    }
   ],
   "source": [
    "plt.hist(np.amax(probs, axis=1), bins=50);"
   ]
  },
  {
   "cell_type": "code",
   "execution_count": 17,
   "id": "5b2d4322",
   "metadata": {},
   "outputs": [
    {
     "data": {
      "image/png": "[encoded data removed]",
      "text/plain": [
       "<Figure size 432x288 with 1 Axes>"
      ]
     },
     "metadata": {
      "needs_background": "light"
     },
     "output_type": "display_data"
    },
    {
     "data": {
      "image/png": "[encoded data removed]",
      "text/plain": [
       "<Figure size 432x288 with 1 Axes>"
      ]
     },
     "metadata": {
      "needs_background": "light"
     },
     "output_type": "display_data"
    },
    {
     "data": {
      "image/png": "[encoded data removed]",
      "text/plain": [
       "<Figure size 432x288 with 1 Axes>"
      ]
     },
     "metadata": {
      "needs_background": "light"
     },
     "output_type": "display_data"
    },
    {
     "data": {
      "image/png": "[encoded data removed]",
      "text/plain": [
       "<Figure size 432x288 with 1 Axes>"
      ]
     },
     "metadata": {
      "needs_background": "light"
     },
     "output_type": "display_data"
    },
    {
     "data": {
      "image/png": "[encoded data removed]",
      "text/plain": [
       "<Figure size 432x288 with 1 Axes>"
      ]
     },
     "metadata": {
      "needs_background": "light"
     },
     "output_type": "display_data"
    }
   ],
   "source": [
    "for i in range(5):\n",
    "    plt.figure()\n",
    "    plt.title(f\"Superpopulation {i}\")\n",
    "    plt.hist(np.amax(probs[ukb_tg_projections.pred_superpopulation==i], axis=1), bins=50);"
   ]
  },
  {
   "cell_type": "code",
   "execution_count": 21,
   "id": "042ca1ee",
   "metadata": {},
   "outputs": [
    {
     "data": {
      "text/plain": [
       "array(['BEB', 'CHB', 'ESN', 'FIN', 'GBR', 'JPT', 'KHV', 'LWK', 'MSL',\n",
       "       'PEL', 'PJL', 'PUR', 'STU', 'TSI', 'YRI'], dtype=object)"
      ]
     },
     "execution_count": 21,
     "metadata": {},
     "output_type": "execute_result"
    }
   ],
   "source": [
    "ancestry_model.classes_"
   ]
  },
  {
   "cell_type": "code",
   "execution_count": 31,
   "id": "2013b60d",
   "metadata": {},
   "outputs": [],
   "source": [
    "superpop_list = np.vectorize(lambda x: superpopulations_map[x])(ancestry_model.classes_)"
   ]
  },
  {
   "cell_type": "code",
   "execution_count": 32,
   "id": "5fa31128",
   "metadata": {},
   "outputs": [
    {
     "data": {
      "text/plain": [
       "array([1, 3, 2, 0, 0, 3, 3, 2, 2, 4, 1, 4, 1, 0, 2])"
      ]
     },
     "execution_count": 32,
     "metadata": {},
     "output_type": "execute_result"
    }
   ],
   "source": [
    "superpop_list"
   ]
  },
  {
   "cell_type": "code",
   "execution_count": 44,
   "id": "0cbec97e",
   "metadata": {},
   "outputs": [],
   "source": [
    "superpop_probs = np.zeros((ukb_tg_projections.shape[0], 5))\n",
    "for i in range(5):\n",
    "    superpop_probs[:, i] = np.sum(probs[:, superpop_list == i], axis=1)"
   ]
  },
  {
   "cell_type": "code",
   "execution_count": 48,
   "id": "d65da113",
   "metadata": {},
   "outputs": [],
   "source": [
    "ukb_tg_projections['superpop_prob'] = np.amax(superpop_probs, axis=1)"
   ]
  },
  {
   "cell_type": "code",
   "execution_count": 51,
   "id": "022e7119",
   "metadata": {},
   "outputs": [],
   "source": [
    "for i in range(ukb_tg_projections.shape[0]):\n",
    "    ukb_tg_projections.loc[i, 'superpop_label'] = str(ukb_tg_projections.loc[i, 'pred_superpopulation']) if ukb_tg_projections.loc[i, 'superpop_prob'] > 0.75 else str(ukb_tg_projections.loc[i, 'pred_superpopulation']) + ' (below thresh)'"
   ]
  },
  {
   "cell_type": "code",
   "execution_count": null,
   "id": "45428874",
   "metadata": {},
   "outputs": [],
   "source": [
    "px.scatter(ukb_tg_projections, x='SCORE1_AVG', y='SCORE2_AVG', color='pred_superpopulation').write_html('superpopulations_pc1v2.html')"
   ]
  },
  {
   "cell_type": "code",
   "execution_count": 28,
   "id": "e5dd9361",
   "metadata": {},
   "outputs": [
    {
     "data": {
      "text/plain": [
       "array([0.462, 0.36 , 0.403, ..., 0.411, 0.455, 0.467])"
      ]
     },
     "execution_count": 28,
     "metadata": {},
     "output_type": "execute_result"
    }
   ],
   "source": [
    "np.sum(probs[:, np.vectorize(lambda x: superpopulations_map[x])(ancestry_model.classes_) == 4][ukb_tg_projections.pred_superpopulation==4], axis=1)"
   ]
  },
  {
   "cell_type": "code",
   "execution_count": 29,
   "id": "02cd0b7f",
   "metadata": {},
   "outputs": [
    {
     "data": {
      "image/png": "[encoded data removed]",
      "text/plain": [
       "<Figure size 432x288 with 1 Axes>"
      ]
     },
     "metadata": {
      "needs_background": "light"
     },
     "output_type": "display_data"
    }
   ],
   "source": [
    "plt.hist(np.sum(probs[:, np.vectorize(lambda x: superpopulations_map[x])(ancestry_model.classes_) == 4][ukb_tg_projections.pred_superpopulation==4], axis=1), bins=50);"
   ]
  },
  {
   "cell_type": "code",
   "execution_count": 30,
   "id": "d9c300c5",
   "metadata": {},
   "outputs": [
    {
     "data": {
      "image/png": "[encoded data removed]",
      "text/plain": [
       "<Figure size 432x288 with 1 Axes>"
      ]
     },
     "metadata": {
      "needs_background": "light"
     },
     "output_type": "display_data"
    }
   ],
   "source": [
    "plt.hist(np.sum(probs[:, np.vectorize(lambda x: superpopulations_map[x])(ancestry_model.classes_) == 2][ukb_tg_projections.pred_superpopulation==2], axis=1), bins=50);"
   ]
  },
  {
   "cell_type": "code",
   "execution_count": 55,
   "id": "254af71d",
   "metadata": {},
   "outputs": [
    {
     "data": {
      "text/plain": [
       "0                   447760\n",
       "0 (below thresh)     13342\n",
       "1                     9546\n",
       "4 (below thresh)      6292\n",
       "2                     5243\n",
       "3                     2385\n",
       "2 (below thresh)      2066\n",
       "1 (below thresh)      1110\n",
       "3 (below thresh)       329\n",
       "4                      304\n",
       "Name: superpop_label, dtype: int64"
      ]
     },
     "execution_count": 55,
     "metadata": {},
     "output_type": "execute_result"
    }
   ],
   "source": [
    "ukb_tg_projections.superpop_label.value_counts()"
   ]
  },
  {
   "cell_type": "code",
   "execution_count": 53,
   "id": "3692e902",
   "metadata": {},
   "outputs": [],
   "source": [
    "px.scatter(ukb_tg_projections, x='SCORE1_AVG', y='SCORE2_AVG', color='superpop_label').write_html('superpopulations_pc1v2_thresh.html')"
   ]
  },
  {
   "cell_type": "code",
   "execution_count": 54,
   "id": "05453f33",
   "metadata": {},
   "outputs": [],
   "source": [
    "px.scatter(ukb_tg_projections, x='SCORE3_AVG', y='SCORE4_AVG', color='superpop_label').write_html('superpopulations_pc3v4_thresh.html')"
   ]
  },
  {
   "cell_type": "code",
   "execution_count": null,
   "id": "4ff2d0f8",
   "metadata": {},
   "outputs": [],
   "source": []
  }
 ],
 "metadata": {
  "kernelspec": {
   "display_name": "fl",
   "language": "python",
   "name": "fl"
  },
  "language_info": {
   "codemirror_mode": {
    "name": "ipython",
    "version": 3
   },
   "file_extension": ".py",
   "mimetype": "text/x-python",
   "name": "python",
   "nbconvert_exporter": "python",
   "pygments_lexer": "ipython3",
   "version": "3.9.9"
  }
 },
 "nbformat": 4,
 "nbformat_minor": 5
}
